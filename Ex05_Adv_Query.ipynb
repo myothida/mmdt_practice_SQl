{
 "cells": [
  {
   "cell_type": "markdown",
   "metadata": {},
   "source": [
    "### Tutorial 05: Advanced Query Techniques of CASE and Subquery\n",
    "\n",
    "In this tutorial, we will explore two advanced SQL query techniques: CASE statements and subqueries. These powerful tools allow you to write more flexible and dynamic SQL queries, which can be incredibly useful when working with complex databases.\n",
    "\n",
    "**CASE Statements**: Conditional Logic in Queries\n",
    "The CASE statement in SQL allows you to add conditional logic to your queries. It works similarly to an if-else or switch statement in programming.\n",
    "\n",
    "**Example 1**: Classifying Participants by Age Group\n",
    "Let’s say we want to classify participants into different age groups such as:\n",
    "\n",
    "- Young: Age < 20\n",
    "- Adult: Age between 20 and 40\n",
    "- Senior: Age > \n",
    "---\n",
    "**Subqueries**: Nesting Queries for Flexibility\n",
    "A subquery is a query within another query. Subqueries can be used in SELECT, INSERT, UPDATE, or DELETE statements, and they allow you to perform operations like filtering, computing aggregates, or updating values based on the results of another query.\n",
    "\n",
    "**Example 1**: Using a Subquery in a `SELECT` Clause\n",
    "Let's say we want to know the average age of all participants and display it next to each participant’s information.\n",
    "\n",
    "**Example 2**: Using a Subquery in a `WHERE` Clause\n",
    "Now, suppose we want to select participants whose age is greater than the average age of all participants. This requires a subquery in the `WHERE` clause.\n",
    "\n",
    "---\n",
    "\n",
    "**Combining CASE and Subqueries**\n",
    "You can combine both techniques for even more powerful and dynamic queries. For **example**, let's display the participant’s age group along with a message indicating whether they are above or below average age.\n",
    "\n",
    "---"
   ]
  },
  {
   "cell_type": "code",
   "execution_count": null,
   "metadata": {},
   "outputs": [],
   "source": []
  }
 ],
 "metadata": {
  "anaconda-cloud": {},
  "kernelspec": {
   "display_name": "Python [conda root]",
   "language": "python",
   "name": "conda-root-py"
  },
  "language_info": {
   "codemirror_mode": {
    "name": "ipython",
    "version": 2
   },
   "file_extension": ".py",
   "mimetype": "text/x-python",
   "name": "python",
   "nbconvert_exporter": "python",
   "pygments_lexer": "ipython2",
   "version": "2.7.12"
  }
 },
 "nbformat": 4,
 "nbformat_minor": 2
}
