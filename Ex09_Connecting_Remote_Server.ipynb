{
 "cells": [
  {
   "cell_type": "markdown",
   "metadata": {},
   "source": [
    "### Tutorial 09: Extracting and Exploring Data in Microsoft SQL Server\n",
    " \n",
    "This tutorial will guide you on how to explore and extract data from a Microsoft SQL Server database using Python and SQL queries.\n",
    "\n",
    "#### **Objectives**\n",
    "- Connect to a Microsoft SQL Server database using Python.\n",
    "- Retrieve and explore the database schema.\n",
    "- Perform basic `SELECT` queries.\n",
    "- Retrieve specific columns and filter data using the `WHERE` clause.\n",
    "- Understand how to sort and limit results.\n",
    "\n",
    "---\n",
    "\n",
    "#### **Pre-requisites**\n",
    "1. Python installed with the `pyodbc` library.\n",
    "2. Access to a Microsoft SQL Server database.\n",
    "\n",
    "---\n",
    "\n",
    "#### **Step 1: Connect to Microsoft SQL Server**\n",
    "- Use Python to establish a connection to your SQL Server.\n",
    "\n",
    "#### **Step 2: Explore the Schema**\n",
    "- Before writing queries, it's essential to understand the structure of the database.\n",
    "\n",
    "#### **Exercise 1: List the tables**\n",
    "- Write a query to list all the tables in your database.\n",
    "- Identify the schema and table names for the data you want to query.\n",
    "\n",
    "#### **Exercise 2: List columns of a table**\n",
    "- Write a query to list all columns in the table of your choice.\n",
    "- Identify the columns you want to query.\n",
    "\n",
    "#### **Exercise 3: Filter the Data**\n",
    "- Write a query to retrieve data based on specific criteria.\n",
    "- Example: Find all products with a price less than $20.\n",
    "\n",
    "#### **Exercise 4: Retrieve Specific Columns**\n",
    "- Write a query to retrieve selected columns from a table of your choice.\n",
    "\n",
    "#### **Exercise 5: Sort and Limit**\n",
    "- Write a query to retrieve the top 3 most expensive products from your database.\n",
    "\n",
    "## **Final Note**\n",
    "Always close the connection when you are done:\n",
    "\n",
    "```python\n",
    "conn.close()\n",
    "print(\"Connection closed.\")\n",
    "```\n",
    "---\n",
    "\n",
    "## **Summary of Exercises**\n",
    "1. List all tables in the database.\n",
    "2. List all columns in a specific table.\n",
    "3. Filter data using the `WHERE` clause.\n",
    "4. Retrieve specific columns.\n",
    "5. Sort and limit results.\n",
    "---\n"
   ]
  },
  {
   "cell_type": "code",
   "execution_count": 3,
   "metadata": {},
   "outputs": [
    {
     "name": "stdout",
     "output_type": "stream",
     "text": [
      "Error: ('08001', '[08001] [Microsoft][ODBC Driver 18 for SQL Server]Named Pipes Provider: Could not open a connection to SQL Server [53].  (53) (SQLDriverConnect); [08001] [Microsoft][ODBC Driver 18 for SQL Server]Login timeout expired (0); [08001] [Microsoft][ODBC Driver 18 for SQL Server]A network-related or instance-specific error has occurred while establishing a connection to myo-cmpt326.simons-rock. Server is not found or not accessible. Check if instance name is correct and if SQL Server is configured to allow remote connections. For more information see SQL Server Books Online. (53)')\n"
     ]
    }
   ],
   "source": [
    "import pyodbc\n",
    "\n",
    "server = 'your server name'  \n",
    "database = 'WideWorldImporters'\n",
    "username = 'your email'  \n",
    "password = 'bcsr@2025'  \n",
    "driver = '{ODBC Driver 18 for SQL Server}'  # Ensure the driver matches your installation\n",
    "\n",
    "\n",
    "try:\n",
    "    conn = pyodbc.connect(\n",
    "        f'DRIVER={driver};SERVER={server};DATABASE={database};UID={username};PWD={password}'\n",
    "    )\n",
    "    print(\"Connection successful!\")\n",
    "except Exception as e:\n",
    "    print(f\"Error: {e}\")\n"
   ]
  }
 ],
 "metadata": {
  "kernelspec": {
   "display_name": ".venv",
   "language": "python",
   "name": "python3"
  },
  "language_info": {
   "codemirror_mode": {
    "name": "ipython",
    "version": 3
   },
   "file_extension": ".py",
   "mimetype": "text/x-python",
   "name": "python",
   "nbconvert_exporter": "python",
   "pygments_lexer": "ipython3",
   "version": "3.12.2"
  }
 },
 "nbformat": 4,
 "nbformat_minor": 2
}
