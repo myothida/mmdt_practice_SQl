{
 "cells": [
  {
   "cell_type": "code",
   "execution_count": 2,
   "metadata": {},
   "outputs": [
    {
     "name": "stdout",
     "output_type": "stream",
     "text": [
      "Existing database '../database/mmdt.db3' deleted.\n",
      "Table 'applications' created and data inserted successfully.\n",
      "Table 'participants' created and data inserted successfully.\n",
      "Database creation and data insertion completed successfully.\n"
     ]
    }
   ],
   "source": [
    "from database_helper import DatabaseHelper\n",
    "\n",
    "# Create an instance of the DatabaseHelper class\n",
    "db_helper = DatabaseHelper(db_path='../database/mmdt.db3')\n",
    "\n",
    "# Specify custom CSV files and table names\n",
    "csv_files = {\n",
    "    'applications': './data/mmdt_applications_batch01.csv',\n",
    "    'participants': './data/DC_MMDT_Participants_Batch01.csv'\n",
    "}\n",
    "\n",
    "# Create the database and insert data from the CSV files\n",
    "db_helper.create_db(csv_file_paths=csv_files)\n"
   ]
  }
 ],
 "metadata": {
  "kernelspec": {
   "display_name": "Python 3",
   "language": "python",
   "name": "python3"
  },
  "language_info": {
   "codemirror_mode": {
    "name": "ipython",
    "version": 3
   },
   "file_extension": ".py",
   "mimetype": "text/x-python",
   "name": "python",
   "nbconvert_exporter": "python",
   "pygments_lexer": "ipython3",
   "version": "3.12.2"
  }
 },
 "nbformat": 4,
 "nbformat_minor": 2
}
