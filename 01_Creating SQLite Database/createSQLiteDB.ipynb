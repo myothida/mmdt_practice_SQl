{
 "cells": [
  {
   "cell_type": "code",
   "execution_count": 1,
   "metadata": {},
   "outputs": [],
   "source": [
    "from database_helper import DatabaseHelper\n",
    "from data_helper import MMDTApplicationProcessor\n",
    "\n",
    "main_data_folder = \"D:\\\\09_Project_2024\\\\08_DataCamp\\\\01_Participants_data\"\n",
    "processor = MMDTApplicationProcessor(\n",
    "        app_file= f\"{main_data_folder}/DC_MMDT_Applications.csv\",\n",
    "        participants_file=f\"{main_data_folder}/DC_MMDT_Participants_Batch01.csv\",\n",
    "        output_dir='./data'\n",
    "    )\n",
    "\n",
    "df = processor.preprocess_application_data()\n",
    "df_selected = processor.process_selected_students(df)\n",
    "df_replace = processor.handle_dropouts_and_generate_final_list(df_selected, df)\n"
   ]
  },
  {
   "cell_type": "code",
   "execution_count": 2,
   "metadata": {},
   "outputs": [
    {
     "name": "stdout",
     "output_type": "stream",
     "text": [
      "Existing database '../database/mmdt.db3' deleted.\n",
      "Table 'participants' created and data inserted successfully.\n",
      "Table 'status' created and data inserted successfully.\n",
      "Database creation and data insertion completed successfully.\n"
     ]
    }
   ],
   "source": [
    "# Create the Database\n",
    "db_helper = DatabaseHelper(db_path='../database/mmdt.db3')\n",
    "\n",
    "# Specify custom CSV files and table names\n",
    "csv_files = {\n",
    "    'participants': './data/mmdt_selected_batch01.csv',\n",
    "    'status': './data/mmdt_current_batch01.csv'\n",
    "}\n",
    "\n",
    "# Create the database and insert data from the CSV files\n",
    "db_helper.create_db(csv_file_paths=csv_files)"
   ]
  }
 ],
 "metadata": {
  "kernelspec": {
   "display_name": "Python 3",
   "language": "python",
   "name": "python3"
  },
  "language_info": {
   "codemirror_mode": {
    "name": "ipython",
    "version": 3
   },
   "file_extension": ".py",
   "mimetype": "text/x-python",
   "name": "python",
   "nbconvert_exporter": "python",
   "pygments_lexer": "ipython3",
   "version": "3.12.2"
  }
 },
 "nbformat": 4,
 "nbformat_minor": 2
}
