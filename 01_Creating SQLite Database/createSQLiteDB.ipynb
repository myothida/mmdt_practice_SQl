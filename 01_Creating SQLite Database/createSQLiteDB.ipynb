{
 "cells": [
  {
   "cell_type": "code",
   "execution_count": 1,
   "metadata": {},
   "outputs": [],
   "source": [
    "from database_helper import DatabaseHelper\n",
    "from data_helper import MMDTApplicationProcessor"
   ]
  },
  {
   "cell_type": "code",
   "execution_count": 2,
   "metadata": {},
   "outputs": [],
   "source": [
    "main_data_folder = \"D:\\\\09_Project_2024\\\\08_DataCamp\\\\01_Participants_data\"\n",
    "processor = MMDTApplicationProcessor(\n",
    "        app_file= f\"{main_data_folder}/DC_MMDT_Applications.csv\",\n",
    "        participants_file=f\"{main_data_folder}/DC_MMDT_Participants_Batch01.csv\",\n",
    "        output_dir='./data'\n",
    "    )\n",
    "\n",
    "df = processor.preprocess_application_data()\n",
    "df_selected = processor.process_selected_students(df)\n",
    "df_replace = processor.handle_dropouts_and_generate_final_list(df_selected, df)"
   ]
  },
  {
   "cell_type": "code",
   "execution_count": 3,
   "metadata": {},
   "outputs": [
    {
     "name": "stdout",
     "output_type": "stream",
     "text": [
      "Existing database '../database/mmdt.db3' deleted.\n",
      "Table 'participants' created and data inserted successfully.\n",
      "Table 'bhutan' created and data inserted successfully.\n",
      "Table 'status' created and data inserted successfully.\n",
      "Table 'attendance' created and data inserted successfully.\n"
     ]
    }
   ],
   "source": [
    "# Create the Database\n",
    "db_helper = DatabaseHelper(db_path='../database/mmdt.db3')\n",
    "\n",
    "# Specify custom CSV files and table names\n",
    "csv_files = {\n",
    "    'participants': './data/mmdt_selected_batch01.csv',\n",
    "    'bhutan': './data/mmdt_bhutan_data.csv',\n",
    "    'status': './data/mmdt_current_batch01.csv',\n",
    "    'attendance': './data/mmdt_phase2_attendance.csv'\n",
    "}\n",
    "\n",
    "# Create the database and insert data from the CSV files\n",
    "db_helper.create_db(csv_file_paths=csv_files)"
   ]
  },
  {
   "cell_type": "code",
   "execution_count": 4,
   "metadata": {},
   "outputs": [
    {
     "name": "stdout",
     "output_type": "stream",
     "text": [
      "Existing database '../database/dc_db.db3' deleted.\n",
      "Table 'survey' created and data inserted successfully.\n",
      "Table 'support' created and data inserted successfully.\n"
     ]
    }
   ],
   "source": [
    "# Create the Database\n",
    "db_helper = DatabaseHelper(db_path='../database/dc_db.db3')\n",
    "\n",
    "# Specify custom CSV files and table names\n",
    "csv_files = {\n",
    "    'survey': './data/survey.csv',\n",
    "    'support': './data/support.csv',\n",
    "}\n",
    "\n",
    "# Create the database and insert data from the CSV files\n",
    "db_helper.create_db(csv_file_paths=csv_files)"
   ]
  },
  {
   "cell_type": "code",
   "execution_count": 2,
   "metadata": {},
   "outputs": [
    {
     "name": "stdout",
     "output_type": "stream",
     "text": [
      "Table 'branch' created and data inserted successfully.\n",
      "Database creation and data insertion completed successfully.\n"
     ]
    }
   ],
   "source": [
    "# Create the Database\n",
    "db_helper = DatabaseHelper(db_path='../database/dc_hoteldb.db3')\n",
    "\n",
    "# Specify custom CSV files and table names\n",
    "csv_files = {\n",
    "    'branch': './data/hotel_data.csv',\n",
    "}\n",
    "\n",
    "# Create the database and insert data from the CSV files\n",
    "db_helper.create_db(csv_file_paths=csv_files)"
   ]
  },
  {
   "cell_type": "code",
   "execution_count": 2,
   "metadata": {},
   "outputs": [
    {
     "name": "stdout",
     "output_type": "stream",
     "text": [
      "Table 'client' created and data inserted successfully.\n",
      "Table 'contract' created and data inserted successfully.\n",
      "Table 'loan' created and data inserted successfully.\n",
      "Table 'repayment' created and data inserted successfully.\n",
      "Database creation and data insertion completed successfully.\n"
     ]
    }
   ],
   "source": [
    "# Create the Database\n",
    "db_helper = DatabaseHelper(db_path='../database/dc_loandb.db3')\n",
    "\n",
    "# Specify custom CSV files and table names\n",
    "csv_files = {\n",
    "    'client': './data/loan_analysis/client.csv',\n",
    "    'contract': './data/loan_analysis/contract.csv',\n",
    "    'loan': './data/loan_analysis/loan.csv',\n",
    "    'repayment': './data/loan_analysis/repayment.csv',\n",
    "}\n",
    "\n",
    "# Create the database and insert data from the CSV files\n",
    "db_helper.create_db(csv_file_paths=csv_files)"
   ]
  }
 ],
 "metadata": {
  "kernelspec": {
   "display_name": ".venv",
   "language": "python",
   "name": "python3"
  },
  "language_info": {
   "codemirror_mode": {
    "name": "ipython",
    "version": 3
   },
   "file_extension": ".py",
   "mimetype": "text/x-python",
   "name": "python",
   "nbconvert_exporter": "python",
   "pygments_lexer": "ipython3",
   "version": "3.12.2"
  }
 },
 "nbformat": 4,
 "nbformat_minor": 2
}
