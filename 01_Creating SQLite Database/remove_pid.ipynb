{
 "cells": [
  {
   "cell_type": "code",
   "execution_count": null,
   "metadata": {},
   "outputs": [],
   "source": [
    "\"\"\"\n",
    "This code removes the personal identificaiton data\n",
    "\n",
    "\n",
    "df = pd.read_csv('./data/DC_MMDT_Applications.csv')\n",
    "app_questions = pd.DataFrame(df.columns, columns = ['question'])\n",
    "\n",
    "\n",
    "merge_questions = ['Time', 'Email-01', 'Email-02', 'Name', 'Selected', 'Reasons', 'BOD', 'City', 'State_Region', 'Country', 'Date_Leave_Country', 'Gender', 'Current_Situation', \n",
    "                   'Type_of_Internet', 'Device_used', 'School_Name', 'Academic_career', 'Contact', 'Pre_Knowledge_Data', 'Course_Wish_Join',\n",
    "                   'Dedicate_Learning_Time', 'Personal_Professional_Goals', 'Reason_Right_Person','Personal_Professional_Challenges', \n",
    "                   'Others', 'Agree_Survey', 'National_ID', 'Declaration']\n",
    "app_questions['Short_Col_Names'] = merge_questions\n",
    "app_questions.to_csv('./data/questions.csv')\n",
    "df.columns = merge_questions\n",
    "df_public = df.drop(columns = ['Email-01', 'Email-02','Reasons', 'Agree_Survey', 'National_ID', 'Contact', 'Declaration'])\n",
    "df_public['BOD'] = df_public['BOD'].apply(lambda x: str(x).split('/')[2])\n",
    "df_public.to_csv('./data/mmdt_applications_batch01.csv')\n",
    "\n",
    "df = pd.read_csv('./data/mmdt_applications_batch01.csv')\n",
    "df_current = pd.read_csv('./data/DC_MMDT_Participants_Batch01.csv')\n",
    "\n",
    "\n",
    "\"\"\"\n"
   ]
  },
  {
   "cell_type": "code",
   "execution_count": null,
   "metadata": {},
   "outputs": [],
   "source": [
    "import pandas as pd\n",
    "df = pd.read_csv('./data/DC_MMDT_Applications.csv')\n",
    "app_questions = pd.DataFrame(df.columns, columns = ['question'])\n",
    "\n",
    "\n",
    "merge_questions = ['Time', 'Email-01', 'Email-02', 'Name', 'Selected', 'Reasons', 'BOD', 'City', 'State_Region', 'Country', 'Date_Leave_Country', 'Gender', 'Current_Situation', \n",
    "                   'Type_of_Internet', 'Device_used', 'School_Name', 'Academic_career', 'Contact', 'Pre_Knowledge_Data', 'Course_Wish_Join',\n",
    "                   'Dedicate_Learning_Time', 'Personal_Professional_Goals', 'Reason_Right_Person','Personal_Professional_Challenges', \n",
    "                   'Others', 'Agree_Survey', 'National_ID', 'Declaration']\n",
    "app_questions['Short_Col_Names'] = merge_questions\n",
    "app_questions.to_csv('./data/questions.csv')\n",
    "df.columns = merge_questions\n",
    "df_public = df.drop(columns = ['Email-01', 'Email-02','Reasons', 'Agree_Survey', 'National_ID', 'Contact', 'Declaration'])\n",
    "df_public['BOD'] = df_public['BOD'].apply(lambda x: str(x).split('/')[2])\n",
    "df_public.to_csv('./data/mmdt_applications_batch01.csv')\n",
    "\n",
    "df = pd.read_csv('./data/mmdt_applications_batch01.csv')\n",
    "df_current = pd.read_csv('./data/DC_MMDT_Participants_Batch01.csv')\n",
    "df_selected = df[df['Selected']=='Yes'].reset_index(drop=True)\n",
    "df_selected['ID'] = df_selected.index\n",
    "df_selected['ID'] = df_selected['ID'].apply(lambda x: 'mmdt2024.' + f\"{x+1:03}\")\n",
    "df['Name'] = df['Name'].str.strip()\n",
    "\n",
    "\n",
    "\n",
    "drop_out_stu_list = df_current[~df_current['In Place of'].isna()][['PARTICIPANT ID', 'PERSONAL Name']]\n",
    "drop_out_stu_list['PERSONAL Name']= drop_out_stu_list['PERSONAL Name'].str.strip()\n",
    "df_replace = drop_out_stu_list.merge(df, how = 'left', left_on = 'PERSONAL Name', right_on = 'Name')\n",
    "df_replace = df_replace.drop(columns = 'Name', axis = 1)\n",
    "df_replace = df_replace.rename(columns = {'PARTICIPANT ID':'ID', 'PERSONAL Name': 'Name'})\n",
    "\n",
    "df_replace.set_index('ID', inplace = True)\n",
    "df_selected.set_index('ID', inplace = True)\n",
    "\n",
    "df_selected.loc[df_replace.index] = df_replace\n",
    "df_selected.reset_index(inplace = True)\n",
    "df_selected[df_selected['ID'].isin(df_replace.index)]\n",
    "\n",
    "df_selected.to_csv('./data/mmdt_selected_batch01.csv', index = 0)"
   ]
  }
 ],
 "metadata": {
  "kernelspec": {
   "display_name": "Python 3",
   "language": "python",
   "name": "python3"
  },
  "language_info": {
   "codemirror_mode": {
    "name": "ipython",
    "version": 3
   },
   "file_extension": ".py",
   "mimetype": "text/x-python",
   "name": "python",
   "nbconvert_exporter": "python",
   "pygments_lexer": "ipython3",
   "version": "3.12.2"
  }
 },
 "nbformat": 4,
 "nbformat_minor": 2
}
