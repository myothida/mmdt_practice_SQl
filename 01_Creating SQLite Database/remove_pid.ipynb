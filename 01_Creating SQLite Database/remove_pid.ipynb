{
 "cells": [
  {
   "cell_type": "code",
   "execution_count": 1,
   "metadata": {},
   "outputs": [],
   "source": [
    "import pandas as pd\n",
    "\n",
    "\"\"\"\n",
    "This code removes the personal identificaiton data\n",
    "\n",
    "df = pd.read_csv('./data/DC_MMDT_Applications.csv')\n",
    "app_questions = pd.DataFrame(df.columns, columns = ['question'])\n",
    "\n",
    "\n",
    "merge_questions = ['Time', 'Email-01', 'Email-02', 'Name', 'Selected', 'Reasons', 'BOD', 'City', 'State_Region', 'Country', 'Date_Leave_Country', 'Gender', 'Current_Situation', \n",
    "                   'Type_of_Internet', 'Device_used', 'School_Name', 'Academic_career', 'Contact', 'Pre_Knowledge_Data', 'Course_Wish_Join',\n",
    "                   'Dedicate_Learning_Time', 'Personal_Professional_Goals', 'Reason_Right_Person','Personal_Professional_Challenges', \n",
    "                   'Others', 'Agree_Survey', 'National_ID', 'Declaration']\n",
    "app_questions['Short_Col_Names'] = merge_questions\n",
    "app_questions.to_csv('./data/questions.csv')\n",
    "df.columns = merge_questions\n",
    "df_public = df.drop(columns = ['Email-01', 'Email-02','Reasons', 'Agree_Survey', 'National_ID', 'Declaration'])\n",
    "df_public['BOD'] = df_public['BOD'].apply(lambda x: str(x).split('/')[2])\n",
    "df_public.to_csv('./data/mmdt_applications_batch01.csv')\n",
    "\"\"\"\n",
    "\n",
    "df = pd.read_csv('./data/mmdt_applications_batch01.csv')\n",
    "df_current = pd.read_csv('./data/DC_MMDT_Participants_Batch01.csv')\n",
    "\n"
   ]
  },
  {
   "cell_type": "code",
   "execution_count": 2,
   "metadata": {},
   "outputs": [
    {
     "data": {
      "text/plain": [
       "Index(['PARTICIPANT ID', 'PERSONAL Name', 'ASSIGNED DATE', 'ASSIGNED MENTOR',\n",
       "       'Group Num', 'Status'],\n",
       "      dtype='object')"
      ]
     },
     "execution_count": 2,
     "metadata": {},
     "output_type": "execute_result"
    }
   ],
   "source": [
    "df_current.columns"
   ]
  },
  {
   "cell_type": "code",
   "execution_count": 3,
   "metadata": {},
   "outputs": [
    {
     "data": {
      "text/plain": [
       "Index(['Time', 'Name', 'Selected', 'BOD', 'City', 'State_Region', 'Country',\n",
       "       'Date_Leave_Country', 'Gender', 'Current_Situation', 'Type_of_Internet',\n",
       "       'Device_used', 'School_Name', 'Academic_career', 'Contact',\n",
       "       'Pre_Knowledge_Data', 'Course_Wish_Join', 'Dedicate_Learning_Time',\n",
       "       'Personal_Professional_Goals', 'Reason_Right_Person',\n",
       "       'Personal_Professional_Challenges', 'Others'],\n",
       "      dtype='object')"
      ]
     },
     "execution_count": 3,
     "metadata": {},
     "output_type": "execute_result"
    }
   ],
   "source": [
    "df.columns"
   ]
  },
  {
   "cell_type": "code",
   "execution_count": null,
   "metadata": {},
   "outputs": [],
   "source": []
  }
 ],
 "metadata": {
  "kernelspec": {
   "display_name": "Python 3",
   "language": "python",
   "name": "python3"
  },
  "language_info": {
   "codemirror_mode": {
    "name": "ipython",
    "version": 3
   },
   "file_extension": ".py",
   "mimetype": "text/x-python",
   "name": "python",
   "nbconvert_exporter": "python",
   "pygments_lexer": "ipython3",
   "version": "3.12.2"
  }
 },
 "nbformat": 4,
 "nbformat_minor": 2
}
