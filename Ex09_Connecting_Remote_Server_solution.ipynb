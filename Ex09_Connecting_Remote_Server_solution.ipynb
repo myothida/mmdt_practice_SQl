{
 "cells": [
  {
   "cell_type": "markdown",
   "metadata": {},
   "source": [
    "### Tutorial 09: Extracting and Exploring Data in Microsoft SQL Server\n",
    " \n",
    "This tutorial will guide you on how to explore and extract data from a Microsoft SQL Server database using Python and SQL queries.\n",
    "\n",
    "#### **Objectives**\n",
    "- Connect to a Microsoft SQL Server database using Python.\n",
    "- Retrieve and explore the database schema.\n",
    "- Perform basic `SELECT` queries.\n",
    "- Retrieve specific columns and filter data using the `WHERE` clause.\n",
    "- Understand how to sort and limit results.\n",
    "\n",
    "---\n",
    "\n",
    "#### **Pre-requisites**\n",
    "1. Python installed with the `pyodbc` library.\n",
    "2. Access to a Microsoft SQL Server database.\n",
    "\n",
    "---\n",
    "\n",
    "#### **Step 1: Connect to Microsoft SQL Server**\n",
    "- Use Python to establish a connection to your SQL Server.\n",
    "\n",
    "#### **Step 2: Explore the Schema**\n",
    "- Before writing queries, it's essential to understand the structure of the database.\n",
    "\n",
    "### SQL Exercises for WideWorldImporters\n",
    "\n",
    "#### **Exercise 1: List Relevant Tables**\n",
    "🔹 **Task:**  \n",
    "- Write a query to **list all tables** from the `Sales` and `Warehouse` schemas only.  \n",
    "- Identify the schema and table names that contain useful data.  \n",
    "---\n",
    "\n",
    "#### **Exercise 2: List Columns of a Table**\n",
    "🔹 **Task:**  \n",
    "- Write a query to list all columns in the `Sales.Orders` table.  \n",
    "---\n",
    "\n",
    "#### **Exercise 3: Retrieve Specific Columns**\n",
    "🔹 **Task:**  \n",
    "- Get the `OrderID`, `OrderDate`, and `CustomerID` in 2013.  \n",
    "---\n",
    "\n",
    "## **Final Note**\n",
    "Always close the connection when you are done:\n",
    "\n",
    "```python\n",
    "conn.close()\n",
    "print(\"Connection closed.\")\n",
    "```\n",
    "---\n",
    "\n",
    "## **Summary of Exercises**\n",
    "1. List all tables in the database.\n",
    "2. List all columns in a specific table.\n",
    "3. Retrieve specific columns.\n",
    "---\n"
   ]
  },
  {
   "cell_type": "code",
   "execution_count": 3,
   "metadata": {},
   "outputs": [
    {
     "name": "stdout",
     "output_type": "stream",
     "text": [
      "Connection successful!\n"
     ]
    }
   ],
   "source": [
    "import pyodbc\n",
    "from dotenv import load_dotenv\n",
    "import os\n",
    "\n",
    "load_dotenv()  # Load environment variables from .env file\n",
    "\n",
    "server = os.getenv(\"DB_SERVER\")\n",
    "database = os.getenv(\"DB_NAME\")\n",
    "username = os.getenv(\"DB_USER\")\n",
    "password = os.getenv(\"DB_PASSWORD\") \n",
    "driver = '{ODBC Driver 18 for SQL Server}'  # Ensure the driver matches your installation\n",
    "\n",
    "try:\n",
    "    # Add TrustServerCertificate and ENCRYPT options to the connection string\n",
    "    conn =  pyodbc.connect(\n",
    "        f'DRIVER={driver}; SERVER={server}; DATABASE={database};'\n",
    "        f'UID={username}; PWD={password};'\n",
    "        f'ENCRYPT=yes; TrustServerCertificate=yes'\n",
    "    )\n",
    "    cursor = conn.cursor()\n",
    "    print(\"Connection successful!\")\n",
    "except Exception as e:\n",
    "    print(f\"Error: {e}\")\n",
    "\n"
   ]
  },
  {
   "cell_type": "code",
   "execution_count": null,
   "metadata": {},
   "outputs": [],
   "source": [
    "# **Exercise 1: List Relevant Tables**\n",
    "import pandas as pd\n",
    "\n",
    "query = \"\"\"\n",
    "    SELECT TABLE_SCHEMA, TABLE_NAME \n",
    "    FROM INFORMATION_SCHEMA.TABLES \n",
    "    WHERE TABLE_TYPE = 'BASE TABLE' AND\n",
    "    TABLE_SCHEMA IN ('Sales', 'Warehouse')\n",
    "    \"\"\"\n",
    "\n",
    "cursor.execute(query)\n",
    "tables = cursor.fetchall()\n",
    "print(\"Tables in the database:\")\n",
    "for schema, table in tables:\n",
    "    print(f\"{schema}.{table}\")\n",
    "    \n"
   ]
  },
  {
   "cell_type": "code",
   "execution_count": 14,
   "metadata": {},
   "outputs": [
    {
     "name": "stdout",
     "output_type": "stream",
     "text": [
      "Tables in the database:\n",
      "Warehouse.Colors\n",
      "Warehouse.Colors_Archive\n",
      "Sales.OrderLines\n",
      "Warehouse.PackageTypes\n",
      "Warehouse.PackageTypes_Archive\n",
      "Warehouse.StockGroups\n",
      "Warehouse.StockItemStockGroups\n",
      "Warehouse.StockGroups_Archive\n",
      "Sales.CustomerTransactions\n",
      "Sales.InvoiceLines\n",
      "Warehouse.StockItemTransactions\n",
      "Sales.Customers\n",
      "Sales.Customers_Archive\n",
      "Sales.Orders\n",
      "Warehouse.ColdRoomTemperatures\n",
      "Warehouse.VehicleTemperatures\n",
      "Warehouse.StockItems\n",
      "Warehouse.ColdRoomTemperatures_Archive\n",
      "Warehouse.StockItems_Archive\n",
      "Warehouse.StockItemHoldings\n",
      "Sales.SpecialDeals\n",
      "Sales.BuyingGroups\n",
      "Sales.Invoices\n",
      "Sales.BuyingGroups_Archive\n",
      "Sales.CustomerCategories\n",
      "Sales.CustomerCategories_Archive\n"
     ]
    }
   ],
   "source": [
    "import pandas as pd\n",
    "import urllib\n",
    "import pyodbc\n",
    "from sqlalchemy import create_engine\n",
    "\n",
    "driver = 'ODBC Driver 18 for SQL Server'\n",
    "\n",
    "params = urllib.parse.quote_plus(\n",
    "    f\"DRIVER={{{driver}}};SERVER={server};DATABASE={database};\"\n",
    "    f\"UID={username};PWD={password};ENCRYPT=yes;TrustServerCertificate=yes\"\n",
    ")\n",
    "\n",
    "engine = create_engine(f\"mssql+pyodbc:///?odbc_connect={params}\")\n",
    "\n",
    "\n",
    "tables_df = pd.read_sql(query, engine)\n",
    "\n",
    "# Display the tables\n",
    "print(\"Tables in the database:\")\n",
    "for _, row in tables_df.iterrows():\n",
    "    print(f\"{row['TABLE_SCHEMA']}.{row['TABLE_NAME']}\")"
   ]
  },
  {
   "cell_type": "code",
   "execution_count": null,
   "metadata": {},
   "outputs": [],
   "source": [
    "## **Exercise 2: List Columns of a Table** ##\n",
    "import pandas as pd\n",
    "query = \"\"\"\n",
    "    SELECT *\n",
    "    FROM Sales.Orders\n",
    "    \"\"\"\n",
    "\n",
    "cursor.execute(query)\n",
    "column_names = [column[0] for column in cursor.description]\n",
    "rows = cursor.fetchall()\n",
    "df = pd.DataFrame.from_records(rows, columns=column_names)\n",
    "\n"
   ]
  },
  {
   "cell_type": "code",
   "execution_count": null,
   "metadata": {},
   "outputs": [],
   "source": [
    "query = \"\"\" \n",
    "    SELECT COLUMN_NAME, DATA_TYPE\n",
    "    FROM INFORMATION_SCHEMA.COLUMNS\n",
    "    WHERE TABLE_NAME = 'Orders' AND COLUMN_NAME = 'OrderDate';\n",
    "\"\"\"\n",
    "\n",
    "cursor.execute(query)\n",
    "column_names = [column[0] for column in cursor.description]\n",
    "rows = cursor.fetchall()\n",
    "print(column_names)\n",
    "print(rows)\n"
   ]
  },
  {
   "cell_type": "code",
   "execution_count": null,
   "metadata": {},
   "outputs": [],
   "source": [
    "## **Exercise 3: Extract the orders in 2013** ##\n",
    "import pandas as pd\n",
    "query = \"\"\" \n",
    "    SELECT OrderID, CustomerID, OrderDate\n",
    "    FROM Sales.Orders\n",
    "    WHERE YEAR(OrderDate) = 2013;\n",
    "\"\"\"\n",
    "cursor.execute(query)\n",
    "column_names = [column[0] for column in cursor.description]\n",
    "rows = cursor.fetchall()\n",
    "\n",
    "df2 = pd.DataFrame.from_records(rows, columns=column_names)\n",
    "df2\n"
   ]
  },
  {
   "cell_type": "code",
   "execution_count": null,
   "metadata": {},
   "outputs": [],
   "source": [
    "cursor.close()\n",
    "conn.close()"
   ]
  }
 ],
 "metadata": {
  "kernelspec": {
   "display_name": ".venv",
   "language": "python",
   "name": "python3"
  },
  "language_info": {
   "codemirror_mode": {
    "name": "ipython",
    "version": 3
   },
   "file_extension": ".py",
   "mimetype": "text/x-python",
   "name": "python",
   "nbconvert_exporter": "python",
   "pygments_lexer": "ipython3",
   "version": "3.12.2"
  }
 },
 "nbformat": 4,
 "nbformat_minor": 2
}
