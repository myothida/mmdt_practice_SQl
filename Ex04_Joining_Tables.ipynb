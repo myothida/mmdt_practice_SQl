{
 "cells": [
  {
   "cell_type": "markdown",
   "metadata": {},
   "source": [
    "### Tutorial 04: Joining Table\n",
    "\n",
    "In this tutorial, we will learn how to join tables in SQL using the participants and status tables. Joining tables allows you to combine rows from two or more tables based on a related column, which is essential for querying normalized databases.\n",
    "**NOTE** The RIGHT JOIN and FULL OUTER JOIN are not supported in SQLite.\n",
    "\n",
    "\n",
    "**INNER JOIN**: Combining Rows with Matching Values\n",
    "An INNER JOIN returns only the rows where there is a match in both tables. If a participant has a status in the status table, the query will return that participant’s details along with their status.\n",
    "\n",
    "**Example 1**: Get Participants with Their Status\n",
    "Let’s use an INNER JOIN to get the participants' ID, ages, and their current status.\n",
    "\n",
    "**Example 2**: Get Participants Age and Gender who are In Progress (status)\n",
    "Now let’s get only those participants who are marked as In-Progress in the status table:\n",
    "\n",
    "---\n",
    "**LEFT JOIN**: Including All Rows from the Left Table\n",
    "A LEFT JOIN returns all rows from the left table, and the matching rows from the right table. If there is no match, NULL values are returned for columns from the right table.\n",
    "\n",
    "**Example 1**: Get All Participants who have dropped out. \n",
    "\n",
    "**Example 2**: Get Participants who are in progress.\n",
    "\n",
    "----\n",
    "**SELF JOIN**: Joining a Table with Itself\n",
    "Sometimes, you may want to join a table with itself. This is known as a SELF JOIN. For example, if we want to compare the status of two participants, we can perform a self-join on the participants table.\n",
    "\n",
    "**Example 1**: Compare the ages of Two Participants with the Same status \n",
    "\n",
    "----\n"
   ]
  }
 ],
 "metadata": {
  "anaconda-cloud": {},
  "kernelspec": {
   "display_name": "Python [conda root]",
   "language": "python",
   "name": "conda-root-py"
  },
  "language_info": {
   "codemirror_mode": {
    "name": "ipython",
    "version": 2
   },
   "file_extension": ".py",
   "mimetype": "text/x-python",
   "name": "python",
   "nbconvert_exporter": "python",
   "pygments_lexer": "ipython2",
   "version": "2.7.12"
  }
 },
 "nbformat": 4,
 "nbformat_minor": 2
}
