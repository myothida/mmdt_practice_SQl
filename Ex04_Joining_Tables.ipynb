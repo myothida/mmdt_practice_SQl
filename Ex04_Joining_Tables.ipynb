{
 "cells": [
  {
   "cell_type": "markdown",
   "metadata": {},
   "source": [
    "##### Tutorial 04: Joining Table\n",
    "\n",
    "In this tutorial, we will learn how to join tables in SQL using the participants and status tables. Joining tables allows you to combine rows from two or more tables based on a related column, which is essential for querying normalized databases.\n",
    "**NOTE** The RIGHT JOIN and FULL OUTER JOIN are not supported in SQLite.\n",
    "\n",
    "\n",
    "**INNER JOIN**: Combining Rows with Matching Values\n",
    "An INNER JOIN returns only the rows where there is a match in both tables. If a participant has a status in the status table, the query will return that participant’s details along with their status.\n",
    "\n",
    "**LEFT JOIN**: Including All Rows from the Left Table\n",
    "A LEFT JOIN returns all rows from the left table, and the matching rows from the right table. If there is no match, NULL values are returned for columns from the right table.\n",
    "\n",
    "**SELF JOIN**: Joining a Table with Itself\n",
    "Sometimes, you may want to join a table with itself. This is known as a SELF JOIN. For example, if we want to compare the status of two participants, we can perform a self-join on the participants table.\n",
    "\n",
    "----\n",
    "**Example 1**: Get ID, Age and status of Participants from Bhutan. \n",
    "\n",
    "**Example 2**: Get ID, Age, and status of all Participants who currently live in Myanmar.\n",
    "\n",
    "**Example 3**: Get ID, Age and Gender who are In Progress (status). All participants (both Bhutan and Myanmar) should be included. \n",
    "\n",
    "**Example 4**: Get the number of Participants with each status.\n",
    "\n",
    "**Example 5**: Compare the ages of Two Participants with the Same status \n"
   ]
  },
  {
   "cell_type": "code",
   "execution_count": null,
   "metadata": {},
   "outputs": [],
   "source": [
    "import sqlite3\n",
    "import pandas as pd\n",
    "\n",
    "db_path = './database/mmdt.db3'\n",
    "\n"
   ]
  }
 ],
 "metadata": {
  "anaconda-cloud": {},
  "kernelspec": {
   "display_name": "Python 3",
   "language": "python",
   "name": "python3"
  },
  "language_info": {
   "codemirror_mode": {
    "name": "ipython",
    "version": 3
   },
   "file_extension": ".py",
   "mimetype": "text/x-python",
   "name": "python",
   "nbconvert_exporter": "python",
   "pygments_lexer": "ipython3",
   "version": "3.12.2"
  }
 },
 "nbformat": 4,
 "nbformat_minor": 2
}
