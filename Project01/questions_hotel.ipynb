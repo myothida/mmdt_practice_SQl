{
 "cells": [
  {
   "cell_type": "markdown",
   "id": "8fe19d87-0127-41eb-be7e-b3a5902c5c36",
   "metadata": {},
   "source": [
    "# Hotel Operations (Ref: DataCamp)\n",
    "\n",
    "LuxurStay Hotels is a major, international chain of hotels. They offer hotels for both business and leisure travellers in major cities across the world. The chain prides themselves on the level of customer service that they offer. \n",
    "\n",
    "However, the management has been receiving complaints about slow room service in some hotel branches. As these complaints are impacting the customer satisfaction rates, it has become a serious issue. Recent data shows that customer satisfaction has dropped from the 4.5 rating that they expect. \n",
    "\n",
    "You are working with the Head of Operations to identify possible causes and hotel branches with the worst problems. \n",
    "\n",
    "#### Data\n",
    "\n",
    "The following schema diagram shows the tables available. You have only been provided with data where customers provided a feedback rating.\n",
    "\n",
    "![hotel_operations](hotel_operations.png)"
   ]
  },
  {
   "cell_type": "markdown",
   "id": "38e09a54-ab41-488f-aac3-a2abf3105115",
   "metadata": {},
   "source": [
    "# Task 1\n",
    "\n",
    "Before you can start any analysis, you need to confirm that the data is accurate and reflects what you expect to see. \n",
    "\n",
    "It is known that there are some issues with the `branch` table, and the data team have provided the following data description. \n",
    "\n",
    "Write a query to return data matching this description. You must match all column names and description criteria.\n",
    "\n",
    "| Column Name | Criteria                                                |\n",
    "|-------------|---------------------------------------------------------|\n",
    "|id | Nominal. The unique identifier of the hotel. </br>Missing values are not possible due to the database structure.|\n",
    "| location | Nominal. The location of the particular hotel. One of four possible values, 'EMEA', 'NA', 'LATAM' and 'APAC'. </br>Missing values should be replaced with “Unknown”. |\n",
    "| total_rooms | Discrete. The total number of rooms in the hotel. Must be a positive integer between 1 and 400. </br>Missing values should be replaced with the default number of rooms, 100. |\n",
    "| staff_count | Discrete. The number of staff employeed in the hotel service department. </br>Missing values should be replaced with the total_rooms multiplied by 1.5. |\n",
    "| opening_date | Discrete. The year in which the hotel opened. This can be any value between 2000 and 2023. </br>Missing values should be replaced with 2023. |\n",
    "| target_guests | Nominal. The primary type of guest that is expected to use the hotel. Can be one of 'Leisure' or 'Business'. </br>Missing values should be replaced with 'Leisure'. |"
   ]
  },
  {
   "cell_type": "markdown",
   "id": "b954a6b5-71aa-4100-8205-e72bdbb34099",
   "metadata": {},
   "source": [
    "# Task 2\n",
    "\n",
    "The Head of Operations wants to know whether there is a difference in time taken to respond to a customer request in each hotel. They already know that different services take different lengths of time. \n",
    "\n",
    "Calculate the average and maximum duration for each branch and service. Your output should include the columns `service_id`, `branch_id`, `avg_time_taken` and `max_time_taken`. Values should be rounded to two decimal places where appropriate. "
   ]
  },
  {
   "cell_type": "markdown",
   "id": "c2af0d99-3e98-4939-ba39-971a8ba93ce4",
   "metadata": {},
   "source": [
    "# Task 3\n",
    "\n",
    "The management team want to target improvements in `Meal` and `Laundry` service in Europe (`EMEA`) and Latin America (`LATAM`). \n",
    "\n",
    "Write a query to return the `description` of the service, the `id` and `location` of the branch, the id of the request as `request_id` and the `rating` for the services and locations of interest to the management team. \n",
    "\n",
    "Use the original branch table, not the output of task 1. "
   ]
  },
  {
   "cell_type": "markdown",
   "id": "0c061413-5a0b-4d8f-9edd-cf8212d0fd68",
   "metadata": {},
   "source": [
    "# Task 4\n",
    "\n",
    "So that you can take a more detailed look at the lowest performing hotels, you want to get service and branch information where the average rating for the branch and service combination is lower than 4.5 - the target set by management.  \n",
    "\n",
    "Your query should return the `service_id` and `branch_id`, and the average rating (`avg_rating`), rounded to 2 decimal places."
   ]
  }
 ],
 "metadata": {
  "editor": "DataCamp Workspace",
  "kernelspec": {
   "display_name": "Python 3 (ipykernel)",
   "language": "python",
   "name": "python3"
  },
  "language_info": {
   "codemirror_mode": {
    "name": "ipython",
    "version": 3
   },
   "file_extension": ".py",
   "mimetype": "text/x-python",
   "name": "python",
   "nbconvert_exporter": "python",
   "pygments_lexer": "ipython3",
   "version": "3.8.10"
  }
 },
 "nbformat": 4,
 "nbformat_minor": 5
}
