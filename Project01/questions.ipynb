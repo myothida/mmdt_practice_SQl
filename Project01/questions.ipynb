{
 "cells": [
  {
   "cell_type": "markdown",
   "id": "8fe19d87-0127-41eb-be7e-b3a5902c5c36",
   "metadata": {},
   "source": [
    "# Practical Exam: Sample SQL Associate\n",
    "\n",
    "Tech Solutions Inc. is a leading technology company specializing in software development and IT consulting services. The company prides itself on delivering innovative solutions to clients across various industries. With a dedicated team of skilled professionals, TechSolutions has earned a reputation for excellence in the tech industry.\n",
    "\n",
    "Tech Solutions Inc. has been experiencing a decline in customer satisfaction ratings over the past few months. Customer feedback surveys and support tickets indicate an increase in dissatisfaction among clients. The company is concerned about this trend as it directly impacts customer retention, reputation, and overall business growth.\n",
    "\n",
    "You are working with the customer support team to provide data to managers to help the company take proactive measures to address these concerns effectively. \n",
    "\n",
    "#### Data\n",
    "\n",
    "The following schema diagram shows the tables available.\n",
    "\n",
    "![customer_feedback](support_db.png)"
   ]
  },
  {
   "cell_type": "markdown",
   "id": "38e09a54-ab41-488f-aac3-a2abf3105115",
   "metadata": {},
   "source": [
    "# Task 1\n",
    "\n",
    "Before you can start any analysis, you need to confirm that the data is accurate and reflects what you expect to see. \n",
    "\n",
    "It is known that there are some issues with the `support` table, and the data team have provided the following data description. \n",
    "\n",
    "Write a query to return data matching this description. You must match all column names and description criteria.\n",
    "\n",
    "| Column Name | Criteria                                                |\n",
    "|-------------|---------------------------------------------------------|\n",
    "|id | Discrete. The unique identifier of the support ticket. </br>Missing values are not possible due to the database structure.|\n",
    "| customer_id | Discrete. The unique identifier of the customer. </br>Missing values should be replaced with 0.|\n",
    "| category | Nominal. The gategory of the support request, can be one of Feedback, Billing Enquiry, Bug, Installation Problem, Other. </br>Missing values should be replaced with Other. |\n",
    "| status | Nominal. The current status of the support ticket, one of Open, In Progress or Resolved. </br>Missing values should be replaced with 'Resolved'. |\n",
    "| creation_date | Discrete. The date the ticket was created. Can be any date in 2023. </br>Missing values should be replaced with 2023-01-01. |\n",
    "| response_time | Discrete. The number of days taken to respond to the support ticket. </br>Missing values should be replaced with 0. |\n",
    "| resolution_time | Continuos. The number of hours taken to resolve the support ticket, rounded to 2 decimal places. </br>Missing values should be replaced with 0. |"
   ]
  },
  {
   "cell_type": "code",
   "execution_count": 1,
   "id": "a5c73f0f-700f-4bf6-99ba-f26445840444",
   "metadata": {
    "customType": "sql",
    "dataFrameVariableName": "clean_data",
    "executionCancelledAt": null,
    "executionTime": 955,
    "lastExecutedAt": 1699607024282,
    "lastScheduledRunId": null,
    "lastSuccessfullyExecutedCode": "-- Write your query for task 1 in this cell\nSELECT grantee, privilege_type \nFROM information_schema.role_table_grants",
    "outputsMetadata": {
     "0": {
      "height": 119,
      "type": "dataFrame"
     }
    },
    "sqlCellMode": "dataFrame",
    "sqlSource": {
     "integrationId": "147dfa72-1197-4049-af05-20b670b7890c",
     "integrationType": "postgresql",
     "type": "integration"
    }
   },
   "outputs": [],
   "source": [
    "import pandas as pd\n",
    "import sqlite3\n",
    "db_path = '../database/dc_db.db3'\n",
    "\n"
   ]
  },
  {
   "cell_type": "markdown",
   "id": "b954a6b5-71aa-4100-8205-e72bdbb34099",
   "metadata": {},
   "source": [
    "# Task 2\n",
    "\n",
    "It is suspected that the response time to tickets is a big factor in unhappiness.\n",
    "\n",
    "Calculate the minimum and maximum response time for each category of support ticket. \n",
    "\n",
    "Your output should include the columns `category`, `min_response` and `max_response`. \n",
    "\n",
    "Values should be rounded to two decimal places where appropriate. "
   ]
  },
  {
   "cell_type": "markdown",
   "id": "c2af0d99-3e98-4939-ba39-971a8ba93ce4",
   "metadata": {},
   "source": [
    "# Task 3\n",
    "\n",
    "The support team want to know more about the `rating` provided by customers who reported `Bugs` or `Installation Problem`s. \n",
    "\n",
    "Write a query to return the `rating` from the survey, the `customer_id`, `category` and `response_time` of the support ticket, for the customers & categories of interest. \n",
    "\n",
    "Use the original support table, not the output of task 1. "
   ]
  }
 ],
 "metadata": {
  "editor": "DataCamp Workspace",
  "kernelspec": {
   "display_name": "Python 3",
   "language": "python",
   "name": "python3"
  },
  "language_info": {
   "codemirror_mode": {
    "name": "ipython",
    "version": 3
   },
   "file_extension": ".py",
   "mimetype": "text/x-python",
   "name": "python",
   "nbconvert_exporter": "python",
   "pygments_lexer": "ipython3",
   "version": "3.12.2"
  }
 },
 "nbformat": 4,
 "nbformat_minor": 5
}
