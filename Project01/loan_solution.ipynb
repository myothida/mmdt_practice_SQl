{
 "cells": [
  {
   "cell_type": "markdown",
   "id": "9f3b8d01-197f-4514-9fa7-4ae0dda7cb97",
   "metadata": {},
   "source": [
    "# Practical Exam: Loan Insights\n",
    "\n",
    "EasyLoan offers a wide range of loan services, including personal loans, car loans, and mortgages.\n",
    "\n",
    "EasyLoan offers loans to clients from Canada, United Kingdom and United States.\n",
    "\n",
    "The analytics team wants to report performance across different geographic areas. They aim to identify areas of strength and weakness for the business strategy team.\n",
    "\n",
    "They need your help to ensure the data is accessible and reliable before they start reporting.\n",
    "\n",
    "\n",
    "**Database Schema**\n",
    "\n",
    "The data you need is in the database named `lending`.\n",
    "\n",
    "![database schema](lending_schema.png)"
   ]
  },
  {
   "cell_type": "markdown",
   "id": "10c236bb-6ee1-4d7e-8fd3-49173c6d431a",
   "metadata": {},
   "source": [
    "# Task 1 \n",
    "\n",
    "The analytics team wants to use the `client` table to create a dashboard for client details. For them to proceed, they need to be sure the data is clean enough to use.\n",
    "\n",
    "The `client` table below illustrates what the analytics team expects the data types and format to be.\n",
    "\n",
    "Write an SQL query that returns the `client` table with the specified format, including identifying and cleaning all invalid values. \n",
    "-  Your output should be a DataFrame with the name 'client'. Do not modify the `client` table.\n",
    "-  Note that the DataLab environment formats dates as YYYY-MM-DD-hh-ss-SSS. \n",
    "\n",
    "| Column Name       | Description                                                      |\n",
    "|-------------------|------------------------------------------------------------------|\n",
    "| client_id         | Unique integer (set by the database, can’t take any other value) |\n",
    "| date\\_of\\_birth       | Date of birth of the client, as a date                           |\n",
    "| employment_status        | Current employment status of the client, either employed or unemployed, as a lower case string                              |\n",
    "| country          | The country where the client resides, either USA, UK or CA, as an upper case string                      |"
   ]
  },
  {
   "cell_type": "code",
   "execution_count": 1,
   "id": "d2493688",
   "metadata": {},
   "outputs": [],
   "source": [
    "import pandas as pd\n",
    "import sqlite3\n",
    "db_path = '../database/dc_loandb.db3'"
   ]
  },
  {
   "cell_type": "code",
   "execution_count": 10,
   "id": "f1307c7c-5860-4a34-a91e-3e798e68ba21",
   "metadata": {
    "customType": "sql",
    "dataFrameVariableName": "client",
    "sqlCellMode": "dataFrame",
    "sqlSource": {
     "integrationId": "1c344584-2e6c-4a45-84dd-20f2e218a150",
     "integrationType": "postgresql",
     "type": "integration"
    }
   },
   "outputs": [],
   "source": [
    "query = \"\"\"\n",
    "    SELECT  client_id, \n",
    "\t\t\tCAST(date_of_birth AS DATE) date_of_birth, \n",
    "\t\t\tLOWER(employment_status) AS employment_status, \n",
    "\t\t\tUPPER(country) as country  \n",
    "    FROM client;\n",
    "    \"\"\"\n",
    "df_client = pd.read_sql_query(query, f\"sqlite:///{db_path}\")\n"
   ]
  },
  {
   "cell_type": "code",
   "execution_count": 12,
   "id": "c981ce19",
   "metadata": {},
   "outputs": [],
   "source": [
    "df_client['employment_status'] = df_client['employment_status'].replace({\n",
    "    'full-time': 'employed',\n",
    "    'part-time': 'employed',\n",
    "    'emplouyed': 'employed'\n",
    "})\n",
    "\n"
   ]
  },
  {
   "cell_type": "markdown",
   "id": "096eeec8-8655-4910-9d57-5bda7bebe922",
   "metadata": {},
   "source": [
    "# Task 2\n",
    "\n",
    "You have been told that there was a problem in the backend system as some of the `repayment_channel` values are missing. \n",
    "\n",
    "The missing values are critical to the analysis so they need to be filled in before proceeding.\n",
    "\n",
    "Luckily, they have discovered a pattern in the missing values:\n",
    "\n",
    "- Repayment higher than 4000 dollars should be made via `bank account`.\n",
    "- Repayment lower than 1000 dollars should be made via `mail`.\n",
    "\n",
    "Write an SQL query that makes the `repayment` table match these criteria.\n",
    "-  Your output should be a DataFrame with the name 'repayment'. Do not modify the original `repayment` table."
   ]
  },
  {
   "cell_type": "code",
   "execution_count": null,
   "id": "393ea9e3-60e0-4d80-b6fb-0c9035402a97",
   "metadata": {
    "customType": "sql",
    "dataFrameVariableName": "repayment",
    "sqlCellMode": "dataFrame",
    "sqlSource": {
     "integrationId": "1c344584-2e6c-4a45-84dd-20f2e218a150",
     "integrationType": "postgresql",
     "type": "integration"
    }
   },
   "outputs": [],
   "source": [
    "query = \"\"\"\n",
    "\tSELECT repayment_id,\n",
    "\t\tloan_id,\n",
    "\t\trepayment_date,\n",
    "\t\trepayment_amount,\n",
    "\t\trepayment_channel\t\n",
    "\t\tFROM repayment;\n",
    "\t\"\"\"\n",
    "df_repayment = pd.read_sql_query(query, f\"sqlite:///{db_path}\")\n",
    "df_repayment['repayment_channel'].value_counts()"
   ]
  },
  {
   "cell_type": "code",
   "execution_count": null,
   "id": "8fdfd8c4",
   "metadata": {},
   "outputs": [],
   "source": [
    "df_repayment.loc[(df_repayment['repayment_channel'] == '-') & (df_repayment['repayment_amount'] > 4000), 'repayment_channel'] = 'bank account'\n",
    "df_repayment.loc[(df_repayment['repayment_channel'] == '-') & (df_repayment['repayment_amount'] < 1000), 'repayment_channel'] = 'mail'\n",
    "\n",
    "df_repayment['repayment_channel'].value_counts()"
   ]
  },
  {
   "cell_type": "markdown",
   "id": "09e654fb-faec-4bf9-8eec-8dddc94b5aba",
   "metadata": {},
   "source": [
    "# Task 3\n",
    "\n",
    "Starting on January 1st, 2022, all US clients started to use an online system to sign contracts.\n",
    "\n",
    "The analytics team wants to analyze the loans for US clients who used the new online system.\n",
    "\n",
    "Write a query that returns the data for the analytics team. Your output should include `client_id`,`contract_date`, `principal_amount` and `loan_type` columns.\n",
    "\n",
    "![database schema](lending_schema.png)"
   ]
  },
  {
   "cell_type": "code",
   "execution_count": null,
   "id": "35a87137-c671-497e-9caf-c5bdda0bc783",
   "metadata": {
    "customType": "sql",
    "dataFrameVariableName": "us_loans",
    "sqlCellMode": "dataFrame",
    "sqlSource": {
     "integrationId": "1c344584-2e6c-4a45-84dd-20f2e218a150",
     "integrationType": "postgresql",
     "type": "integration"
    }
   },
   "outputs": [],
   "source": [
    "query = \"\"\"\n",
    "    SELECT l.client_id, c.contract_date, l.principal_amount, l.loan_type\n",
    "    FROM loan as l\n",
    "    LEFT JOIN contract as c\n",
    "    ON c.contract_id = l.contract_id\n",
    "    LEFT JOIN client as cl\n",
    "    ON cl.client_id = l.client_id\n",
    "    WHERE c.contract_date>= '2022-01-01'\n",
    "    AND cl.country = 'USA';\n",
    "\"\"\"\n",
    "\n",
    "df = pd.read_sql_query(query, f\"sqlite:///{db_path}\")\n",
    "df"
   ]
  },
  {
   "cell_type": "markdown",
   "id": "bde39658-4eb4-4c8a-b3de-dd0ee17092b0",
   "metadata": {},
   "source": [
    "# Task 4\n",
    "\n",
    "The business strategy team is considering offering a more competitive rate to the US market. \n",
    "\n",
    "The analytic team want to compare the average interest rates offered by the company for the same loan type in different countries to determine if there are significant differences.\n",
    "\n",
    "Write a query that returns the data for the analytics team. Your output should include `loan_type`, `country` and `avg_rate` columns.\n",
    "\n",
    "![database schema](lending_schema.png)"
   ]
  },
  {
   "cell_type": "code",
   "execution_count": null,
   "id": "9b8ebc99-1d44-4c0e-b3af-f14e1f9bf61e",
   "metadata": {
    "customType": "sql",
    "dataFrameVariableName": "average_data",
    "sqlCellMode": "dataFrame",
    "sqlSource": {
     "integrationId": "1c344584-2e6c-4a45-84dd-20f2e218a150",
     "integrationType": "postgresql",
     "type": "integration"
    }
   },
   "outputs": [],
   "source": [
    "query = \"\"\"\n",
    "    SELECT l.loan_type, cl.country, \n",
    "        AVG(l.interest_rate) as avg_rate\n",
    "    FROM loan as l    \n",
    "    LEFT JOIN client as cl\n",
    "    ON cl.client_id = l.client_id\n",
    "    GROUP BY l.loan_type, cl.country\n",
    "    ORDER BY l.loan_type, cl.country;\n",
    "\"\"\"\n",
    "\n",
    "df = pd.read_sql_query(query, f\"sqlite:///{db_path}\")\n",
    "df"
   ]
  }
 ],
 "metadata": {
  "editor": "DataCamp Workspace",
  "kernelspec": {
   "display_name": ".venv",
   "language": "python",
   "name": "python3"
  },
  "language_info": {
   "codemirror_mode": {
    "name": "ipython",
    "version": 3
   },
   "file_extension": ".py",
   "mimetype": "text/x-python",
   "name": "python",
   "nbconvert_exporter": "python",
   "pygments_lexer": "ipython3",
   "version": "3.12.2"
  }
 },
 "nbformat": 4,
 "nbformat_minor": 5
}
