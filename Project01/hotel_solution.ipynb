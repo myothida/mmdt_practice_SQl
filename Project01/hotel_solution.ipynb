{
 "cells": [
  {
   "cell_type": "code",
   "execution_count": null,
   "metadata": {},
   "outputs": [],
   "source": [
    "import pandas as pd\n",
    "import sqlite3\n",
    "db_path = '../database/dc_hoteldb.db3'"
   ]
  },
  {
   "cell_type": "code",
   "execution_count": null,
   "metadata": {},
   "outputs": [],
   "source": [
    "query = \"\"\"\n",
    "    SELECT  \n",
    "\t\tid,\n",
    "\t\tCOALESCE(location, 'Unknown') AS location, \n",
    "\t\tCASE\n",
    "\t\t\tWHEN total_rooms is NULL THEN 100\n",
    "\t\t\tWHEN total_rooms <1 OR total_rooms>400 THEN 100\n",
    "\t\t\tELSE total_rooms\n",
    "\t\tEND as total_rooms,\n",
    "\t\t\n",
    "\t\tCASE\n",
    "\t\t\tWHEN staff_count is NULL THEN (COALESCE(total_rooms,100)*1.5)::INTEGER\n",
    "\t\t\tELSE staff_count\n",
    "\t\tEND as staff_count, \n",
    "\t\t\n",
    "\t\tCASE\n",
    "\t\t\tWHEN opening_date is NULL THEN 2023\n",
    "\t\t\tWHEN opening_date = '-' THEN 2023\n",
    "\t\t\tWHEN opening_date::INTEGER <2000 OR opening_date::INTEGER>2023 THEN 2023\n",
    "\t\t\tELSE opening_date::INTEGER\n",
    "\t\tEND AS opening_date,\n",
    "\t \n",
    "\t\tCASE\n",
    "       \t \tWHEN target_guests IS NULL THEN 'Leisure'\n",
    "        \tWHEN LOWER(target_guests) LIKE 'b%' THEN 'Business'\n",
    "        \tELSE target_guests \n",
    "\t\tEND AS target_guests\n",
    "\t\tFROM branch;\n",
    "\n",
    "    \"\"\"\n",
    "df = pd.read_sql_query(query, f\"sqlite:///{db_path}\")\n",
    "df"
   ]
  },
  {
   "cell_type": "code",
   "execution_count": null,
   "metadata": {},
   "outputs": [],
   "source": [
    "query = \"\"\"\n",
    "\n",
    "        SELECT \n",
    "            service_id,\n",
    "            branch_id, \n",
    "            ROUND(AVG(CAST(time_taken AS INTEGER)),2) as avg_time_taken,\n",
    "            ROUND(MAX(CASE(time_taken AS INTEGER)), 2) as max_time_taken\n",
    "            \n",
    "            FROM public.request\n",
    "            GROUP BY service_id, branch_id\n",
    "            ORDER BY service_id, branch_id;\n",
    "\n",
    "        \"\"\"\n",
    "\n",
    "df = pd.read_sql_query(query, f\"sqlite:///{db_path}\")\n",
    "df"
   ]
  },
  {
   "cell_type": "code",
   "execution_count": null,
   "metadata": {},
   "outputs": [],
   "source": [
    "query = \"\"\"\n",
    "    SELECT \n",
    "            \n",
    "        s.description,\n",
    "        b.id, \n",
    "        b.location,\n",
    "        r.id AS request_id,\t\n",
    "        r.rating\n",
    "        \n",
    "        FROM request AS r\n",
    "        INNER JOIN branch b\n",
    "        ON b.id = r.branch_id\n",
    "        INNER JOIN service as s\n",
    "        ON r.service_id = s.id\n",
    "        WHERE b.location in ('EMEA', 'LATAM') \n",
    "        AND (s.description ILIKE '%Meal%' OR s.description ILIKE '%Laundry%')\n",
    "        ORDER by location, description;\n",
    "    \"\"\"\n",
    "\n",
    "df = pd.read_sql_query(query, f\"sqlite:///{db_path}\")\n",
    "df"
   ]
  },
  {
   "cell_type": "code",
   "execution_count": null,
   "metadata": {},
   "outputs": [],
   "source": [
    "query = \"\"\"\n",
    "SELECT \n",
    "\tservice_id,\n",
    "\tbranch_id,\n",
    "\tROUND(AVG(rating),2) as avg_rating\n",
    "    FROM request\n",
    "    GROUP BY service_id, branch_id\n",
    "    HAVING AVG(rating)<4.5;\n",
    "\n",
    "\"\"\"\n",
    "\n",
    "df = pd.read_sql_query(query, f\"sqlite:///{db_path}\")\n",
    "df"
   ]
  }
 ],
 "metadata": {
  "kernelspec": {
   "display_name": "Python 3",
   "language": "python",
   "name": "python3"
  },
  "language_info": {
   "codemirror_mode": {
    "name": "ipython",
    "version": 3
   },
   "file_extension": ".py",
   "mimetype": "text/x-python",
   "name": "python",
   "nbconvert_exporter": "python",
   "pygments_lexer": "ipython3",
   "version": "3.12.2"
  }
 },
 "nbformat": 4,
 "nbformat_minor": 2
}
