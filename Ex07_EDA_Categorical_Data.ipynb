{
 "cells": [
  {
   "cell_type": "markdown",
   "metadata": {},
   "source": [
    "### Tutorial 07: Working with Categorical Data in SQLite\n",
    "\n",
    "In this tutorial, we will explore how to work with categorical data in SQLite. Categorical data refers to variables that contain label values, such as \"Yes\" or \"No,\" or categories like \"Red,\" \"Blue,\" or \"Green.\" In SQL, categorical data is often stored as text or integer values that represent different categories.\n",
    "\n",
    "**Working with Categorical Data in SQLite**\n",
    "SQLite does not have a built-in data type specifically for categorical data. However, categorical data can be represented in the following ways:\n",
    "\n",
    "**TEXT**: Used to store string values that represent different categories.\n",
    "**INTEGER**: Used to store numerical values that represent different categories (e.g., 1 for \"Yes\" and 0 for \"No\").\n",
    "\n",
    "\n",
    "**Example 1**: Remove extra space in the Categorical columns and update the table.  \n",
    "\n",
    "**Example 2**: What is the gender distribution of participants applying for the program? Count how many participants identify as male, female, or other.\n",
    "\n",
    "**Example 3**: How many participants from each state/region are applying for the program? Combine the data from all regions and count the total number of participants.\n",
    "\n",
    "**Example 4**: What is the employment status distribution of participants? Count how many participants are employed, unemployed, or in another situation.\n",
    "\n",
    "**Example 5**: How many participants use each type of internet (e.g., Wi-Fi, mobile data)? Group the participants based on their reported internet connection type.\n",
    "\n",
    "**Example 6**: Combine data from State_Region and Gender to find out how many male participants are applying from each region.\n",
    "\n",
    "**Example 7**: How many participants wish to join each course? Group participants by their preferred course.\n",
    "\n",
    "**Example 8**: How many participants have personal goals related to career advancement, education, or other categories?\n",
    "\n",
    "**Example 9**: How many participants belong to a school with \"Tech\" in the name?\n",
    "\n",
    "**Example 10**: How many participants are in an academic career that includes the word \"Graduate\"?\n",
    "\n",
    "\n"
   ]
  },
  {
   "cell_type": "code",
   "execution_count": 3,
   "metadata": {},
   "outputs": [],
   "source": [
    "import sqlite3\n",
    "import pandas as pd\n",
    "\n",
    "db_path = './database/mmdt.db3'\n"
   ]
  }
 ],
 "metadata": {
  "anaconda-cloud": {},
  "kernelspec": {
   "display_name": "Python 3",
   "language": "python",
   "name": "python3"
  },
  "language_info": {
   "codemirror_mode": {
    "name": "ipython",
    "version": 3
   },
   "file_extension": ".py",
   "mimetype": "text/x-python",
   "name": "python",
   "nbconvert_exporter": "python",
   "pygments_lexer": "ipython3",
   "version": "3.12.2"
  }
 },
 "nbformat": 4,
 "nbformat_minor": 2
}
