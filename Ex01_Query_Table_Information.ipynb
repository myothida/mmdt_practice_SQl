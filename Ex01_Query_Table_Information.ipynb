{
 "cells": [
  {
   "cell_type": "markdown",
   "metadata": {},
   "source": [
    "##### Tutorial 1: Getting Table Information\n",
    "This tutorial will teach you how to retrieve essential table information using SQL and Python. You will learn how to:\n",
    "\n",
    "- List all the tables in the database.\n",
    "- Get the schema of a specific table.\n",
    "- View sample data from a table.\n",
    "\n",
    "**Prerequisites**\n",
    "- SQLite installed or accessible via Python’s sqlite3 module.\n",
    "- mmdt.db3 database created using the provided DatabaseHelper class."
   ]
  },
  {
   "cell_type": "code",
   "execution_count": 1,
   "metadata": {},
   "outputs": [],
   "source": [
    "import sqlite3\n",
    "import pandas as pd\n",
    "\n",
    "# Path to the database\n",
    "db_path = './database/mmdt.db3'\n",
    "\n",
    "def list_tables(connection):\n",
    "    \"\"\"Lists all tables in the database.\"\"\"\n",
    "    query = \"SELECT name FROM sqlite_master WHERE type='table';\"\n",
    "    cursor = connection.cursor()\n",
    "    cursor.execute(query)\n",
    "    tables = cursor.fetchall()\n",
    "    print(\"Tables in the database:\")\n",
    "    for table in tables:\n",
    "        print(f\"- {table[0]}\")\n",
    "\n",
    "def get_table_schema(connection, table_name):\n",
    "    \"\"\"Gets the schema of a specified table.\"\"\"\n",
    "    query = f\"PRAGMA table_info({table_name});\"\n",
    "    cursor = connection.cursor()\n",
    "    cursor.execute(query)\n",
    "    schema = cursor.fetchall()    \n",
    "    column_names = [description[0] for description in cursor.description]\n",
    "    df_schema = pd.DataFrame(schema, columns = column_names)\n",
    "    df_schema = df_schema.iloc[:,1:3]\n",
    "    \n",
    "    return df_schema\n",
    "\n",
    "def view_sample_data(connection, table_name, limit=5):\n",
    "    \"\"\"Displays sample data from a table.\"\"\"\n",
    "    query = f\"SELECT * FROM {table_name} LIMIT {limit};\"\n",
    "    cursor = connection.cursor()\n",
    "    cursor.execute(query)\n",
    "    rows = cursor.fetchall()\n",
    "    column_names = [description[0] for description in cursor.description]\n",
    "    df = pd.DataFrame(rows, columns=column_names)  \n",
    "\n",
    "    return df  \n"
   ]
  },
  {
   "cell_type": "code",
   "execution_count": null,
   "metadata": {},
   "outputs": [],
   "source": [
    "# Connect to the database\n",
    "with sqlite3.connect(db_path) as conn:\n",
    "    # List all tables\n",
    "    list_tables(conn)\n",
    "\n",
    "    # Get schema for the 'participants' table\n",
    "    df_schema = get_table_schema(conn, 'participants')\n",
    "\n",
    "    # View sample data from the 'applications' table\n",
    "    df = view_sample_data(conn, 'status', limit=5)\n",
    "\n",
    "df_schema"
   ]
  }
 ],
 "metadata": {
  "kernelspec": {
   "display_name": "Python 3",
   "language": "python",
   "name": "python3"
  },
  "language_info": {
   "codemirror_mode": {
    "name": "ipython",
    "version": 3
   },
   "file_extension": ".py",
   "mimetype": "text/x-python",
   "name": "python",
   "nbconvert_exporter": "python",
   "pygments_lexer": "ipython3",
   "version": "3.12.2"
  }
 },
 "nbformat": 4,
 "nbformat_minor": 2
}
