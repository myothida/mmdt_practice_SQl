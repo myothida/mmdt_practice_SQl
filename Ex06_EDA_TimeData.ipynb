{
 "cells": [
  {
   "cell_type": "markdown",
   "metadata": {},
   "source": [
    "##### Tutorial 06: Working with Time Ddata\n",
    "\n",
    "In this tutorial, we will explore how to work with timestamps, dates, and other time-related columns in SQLite. \n",
    "\n",
    "**Working with Timestamps and Dates in SQLite**\n",
    "SQLite supports:\n",
    "\n",
    "- **DATE**: Stores the date in the format YYYY-MM-DD.\n",
    "- **TIME**: Stores the time in the format HH:MM:SS.\n",
    "- **DATETIME**: Stores both the date and the time in the format YYYY-MM-DD HH:MM:SS.\n",
    "- **TIMESTAMP**: Stores the same data as DATETIME but usually refers to the number of seconds since a specific time (often 1970-01-01 00:00:00 UTC).\n",
    "\n",
    "SQLite provides a few built-in functions for manipulating time:\n",
    "\n",
    "- `DATE`(): Extracts the date from a given string, or converts a string to a date. Your date must be in YYYY-MM-DD format. \n",
    "- `TIME`(): Extracts the time from a given string, or converts a string to time. Your date must be in YYYY-MM-DD format. \n",
    "- `DATETIME`(): Combines both date and time from a given string, or converts a string to both.\n",
    "- `STRFTIME`(): Formats date and time according to a specific format.\n",
    "\n",
    "**Example 1**: What is the status of participants who have left the country?\n",
    "\n",
    "**Example 2**: What is the average age of participants who have applied in the same day and same hour?\n",
    "\n",
    "**Example 3**: How many paraticipants left the country between August 01,2024 and Feb 01, 2021?\n",
    "\n",
    "**Example 4**: What is the status distribution of participants  who have applied in the same day?\n",
    "\n",
    "**Example 5**: Extract ID and Age of participants who are still in progress and have left the country between August 01,2024 and Feb 01, 2021?\n",
    "\n",
    "---\n",
    "\n"
   ]
  },
  {
   "cell_type": "code",
   "execution_count": null,
   "metadata": {},
   "outputs": [],
   "source": [
    "import pandas as pd\n",
    "import sqlite3\n",
    "\n",
    "db_path = './database/mmdt.db3'"
   ]
  }
 ],
 "metadata": {
  "anaconda-cloud": {},
  "kernelspec": {
   "display_name": "Python 3",
   "language": "python",
   "name": "python3"
  },
  "language_info": {
   "codemirror_mode": {
    "name": "ipython",
    "version": 3
   },
   "file_extension": ".py",
   "mimetype": "text/x-python",
   "name": "python",
   "nbconvert_exporter": "python",
   "pygments_lexer": "ipython3",
   "version": "3.12.2"
  }
 },
 "nbformat": 4,
 "nbformat_minor": 2
}
