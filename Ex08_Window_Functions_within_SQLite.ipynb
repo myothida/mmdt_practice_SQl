{
 "cells": [
  {
   "cell_type": "markdown",
   "id": "9937d80e",
   "metadata": {},
   "source": [
    "# s03-Window Functions within SQLite\n",
    "\n",
    "Window Functions get available sincle SQLite 3.25.According to the SQLite docs:\n",
    "\n",
    ">A window function is a special SQL function where the input values are taken from a “window” of one or more rows in the results set of a SELECT statement.\n",
    "\n",
    "SQLite now has these built-in Window functions:\n",
    "\n",
    "- row_number()\n",
    "- rank()\n",
    "- dense_rank()\n",
    "- percent_rank()\n",
    "- cume_dist()\n",
    "- ntile(N)\n",
    "- lag(expr), lag(expr, offset), lag(expr, offset, default)\n",
    "- lead(expr), lead(expr, offset), lead(expr, offset, default)\n",
    "- first_value(expr)\n",
    "- last_value(expr)\n",
    "- nth_value(expr, N)\n",
    "\n",
    "Previous tutorials are created based on a little bit older SQLite versions. At that time, window Functions are not available. In this tutoiral, I am going to touch some of them in the following 5 sections:\n",
    "\n",
    "- Firstly, give a comparison between SQL Window Functions vs. SQL Aggregate Functions\n",
    "\n",
    "- Secondly, go through a few WINDOW functions based on regular aggregate functions, such as **AVG**, **MIN/MAX**, **COUNT**, **SUM**.\n",
    "\n",
    "- Thirdly, focus on rank-related functions, such as **ROW_NUMBER**, **RANK**,and **RANK_DENSE**. Those functions are handy when generating ranking indexes, and you need to be fluent in those functions before entering a data scientist SQL interview.\n",
    "\n",
    "- Forthly, talk about generating statistics (e.g., percentiles, quartiles, median, etc .) with the **NTILE** function, a common task for a data scientist.\n",
    "\n",
    "- Fifthly, focus on **LAG** and **LEAD**, two functions that are super important if you are interviewing for a role that requires dealing with time-series data.\n",
    "\n",
    "\n",
    "## 1. [Window Functions vs. Aggregate Functions](https://learnsql.com/blog/window-functions-vs-aggregate-functions/)\n",
    "\n",
    "In the previous tutorials, we presented some application cases of Aggregate Functions. What are the Similarities and Differences between them? Let's have a quick gothrough.\n",
    "\n",
    "### 1.1 Aggregate functions\n",
    "\n",
    "*Aggregate functions* operate on a set of values to return a single scalar value. These are SQL aggregate functions:\n",
    "\n",
    "- AVG() returns the average of the specified values.\n",
    "- SUM() calculates the sum of all values in the set.\n",
    "- MAX() and MIN() return the maximum and minimum value, respectively.\n",
    "-COUNT() returns the total number of values in the set.\n",
    "\n",
    "By using the GROUP BY clause, you can calculate an aggregate value for several groups in one query. That is to say, ***aggregate functions*** collapse the individual rows and present the aggregate value for all the rows in the group.\n",
    "\n",
    "\n",
    "### 1.2 Window functions\n",
    "\n",
    "*Window functions* operate on a set of rows called a window frame. They return a single value for each row from the underlying query.\n",
    "\n",
    "The window frame (or simply window) is defined using the OVER() clause. This clause also allows defining a window based on a specific column (similar to GROUP BY).\n",
    "\n",
    "To calculate the returned values, window functions may use aggregate functions, but they will use them with the OVER() clause.\n",
    "\n",
    "### 1.3 Similarities and Differences Between Window and Aggregate Functions\n",
    "\n",
    "Now that we have seen both types of functions, we can summarize the similarities and differences between them.\n",
    "\n",
    "***Both window functions and aggregate functions:***\n",
    "\n",
    "- Operate on a set of values (rows).\n",
    "- Can calculate aggregate amounts (e.g. AVG(), SUM(), MAX(), MIN(), or COUNT()) on the set.\n",
    "- Can group or partition data on one or more columns.\n",
    "\n",
    "***Aggregate functions with GROUP BY differ from window functions in that they:***\n",
    "\n",
    "- Use GROUP BY() to define a set of rows for aggregation. \n",
    "- Group rows based on column values.\n",
    "- Collapse rows based on the defined groups.\n",
    "\n",
    "\n",
    "***Window functions differ from aggregate functions used with GROUP BY in that they:***\n",
    "\n",
    "- Use OVER() instead of GROUP BY() to define a set of rows.\n",
    "- May use many functions other than aggregates (e.g. RANK(), LAG(), or LEAD()).\n",
    "- Groups rows on the row’s rank, percentile, etc. as well as its column value.\n",
    "- Do not collapse rows.\n",
    "- May use a sliding window frame (which depends on the current row)."
   ]
  },
  {
   "cell_type": "markdown",
   "id": "50328eee",
   "metadata": {},
   "source": [
    "## 2. Practive window functions\n",
    "\n",
    "Let's connect the demo database, firstly."
   ]
  },
  {
   "cell_type": "code",
   "execution_count": null,
   "id": "db0fb2b8",
   "metadata": {},
   "outputs": [],
   "source": [
    "%load_ext sql"
   ]
  },
  {
   "cell_type": "code",
   "execution_count": null,
   "id": "d8963a62",
   "metadata": {},
   "outputs": [],
   "source": [
    "%sql sqlite:///data/demo.db3"
   ]
  },
  {
   "cell_type": "markdown",
   "id": "2d826b8a",
   "metadata": {},
   "source": [
    "### 2.1 WINDOW functions based on regular aggregate functions: AVG, MIN/MAX, SUM, COUNT\n",
    "\n",
    "Window functions are functions that perform calculations across a set of rows related to the current row.\n",
    "\n",
    "It is comparable to the type of calculation done with an aggregate function, but unlike regular aggregate functions, window functions do not group several rows into a single output row — the rows retain their own identities.\n",
    "\n",
    "Behind the scenes, the window functions process more than just the query results' current row.\n",
    "\n",
    "Let's take the ***watershed_monthly*** as the demo table.\n",
    "\n",
    "#### 2.1.1 AVG"
   ]
  },
  {
   "cell_type": "code",
   "execution_count": null,
   "id": "4279ca94",
   "metadata": {
    "scrolled": false
   },
   "outputs": [],
   "source": [
    "%%sql sqlite://\n",
    "SELECT\n",
    "    YR,\n",
    "    MO,\n",
    "    PREC_mm,\n",
    "    ROUND(AVG(PREC_mm) OVER(PARTITION BY MO)) AS avg_PREC_mm\n",
    "FROM watershed_monthly\n",
    "ORDER by MO"
   ]
  },
  {
   "cell_type": "markdown",
   "id": "38a0e90b",
   "metadata": {},
   "source": [
    "There is no **GROUP BY** clause for the AVG function, but how does the SQL engine know which rows to use to compute the average? The answer is the **PARTITION BY** clause inside the **OVER()** utility, and we are calculating the average based on a unique value of rating.\n",
    "\n",
    "In the final output, every row has the average PREC_mm from the same month (*MO*). By adding a ***ORDER by***, you will find there is the same averge value for each month.\n",
    "\n",
    "#### 2.1.2 SUM\n",
    "\n",
    "Let’s take a look at a more complicated example, where we calculated a running sum with a window function."
   ]
  },
  {
   "cell_type": "code",
   "execution_count": null,
   "id": "3d925980",
   "metadata": {
    "scrolled": false
   },
   "outputs": [],
   "source": [
    "%%sql sqlite://\n",
    "SELECT\n",
    "    YR,\n",
    "    MO,\n",
    "    PREC_mm,    \n",
    "    SUM(PREC_mm) OVER(ORDER BY MO) AS running_total,\n",
    "    SUM(PREC_mm) OVER() AS overall,\n",
    "    ROUND(SUM(PREC_mm) OVER(ORDER BY MO) * 100.0 /SUM(PREC_mm) OVER(), 2) AS running_percentage\n",
    "FROM watershed_monthly"
   ]
  },
  {
   "cell_type": "markdown",
   "id": "b71c53a5",
   "metadata": {},
   "source": [
    "Notice that there is no **PARTITION BY** clause because I am not grouping those  into any PREC_mm sub-categories. I want to compute my overall progress but not based on any subgroups or categories.\n",
    "\n",
    "Another thing to notice is that if I don’t add anything inside the **OVER()** function, I get the total number of PREC_mm from the entire table. As you can see from the second last column: they all have the same value of **24084.34**, but after I add the **ORDER BY** clause, I get the running total of the PREC_mm up to that specific row (**running_total** column).\n",
    "\n",
    "#### 2.1.3 Others\n",
    "\n",
    "You can try ***MIN***, ***COUNT**, ***AVG*** by yourself, which are all similar to prevois examples of ***SUM*** and ***MAX**."
   ]
  },
  {
   "cell_type": "markdown",
   "id": "dd23d924",
   "metadata": {},
   "source": [
    "### 2.2 ROW_NUMBER, RANK, DENSE_RANK\n",
    "\n",
    "\n",
    "Let’s go through some of the essential WINDOW functions: **ROW_NUMBER** and **RANK**. In the following example, our goal is to create a ranking index based on the amount of PREC_mm for the entire table.\n",
    "\n",
    "#### 2.2.1 ROW_NUMBER"
   ]
  },
  {
   "cell_type": "code",
   "execution_count": null,
   "id": "5e25e37f",
   "metadata": {},
   "outputs": [],
   "source": [
    "%%sql sqlite://\n",
    "SELECT\n",
    "    YR,\n",
    "    MO,\n",
    "    PREC_mm,  \n",
    "    ROW_NUMBER() OVER(ORDER BY PREC_mm DESC) AS row_num\n",
    "FROM watershed_monthly\n",
    "ORDER by row_num"
   ]
  },
  {
   "cell_type": "markdown",
   "id": "1b384b08",
   "metadata": {},
   "source": [
    "As you can see, the ROW_NUMBER function generates a sequence of integers, starting from 1, for each row.\n",
    "\n",
    "#### 2.2.2 ROW_NUMBER over PARTITION\n",
    "\n",
    "Let’s take a look at another example. Instead of comparing a amount of PREC_mm to all other PREC_mm from the entire table, we can rank them within each month using **PARTITION BY**."
   ]
  },
  {
   "cell_type": "code",
   "execution_count": null,
   "id": "ae772f2f",
   "metadata": {},
   "outputs": [],
   "source": [
    "%%sql sqlite://\n",
    "SELECT\n",
    "    YR,\n",
    "    MO,\n",
    "    PREC_mm,  \n",
    "    ROW_NUMBER() OVER(PARTITION BY MO ORDER BY PREC_mm DESC) AS row_num\n",
    "FROM watershed_monthly\n",
    "ORDER by row_num"
   ]
  },
  {
   "cell_type": "markdown",
   "id": "dd45ee71",
   "metadata": {},
   "source": [
    "**ROW_NUMBER** with **OVER** and **PARTITION BY** is a regular pattern that is frequently used in advanced SQL.\n",
    "\n",
    "#### 2.2.3 Others\n",
    "\n",
    "Now you can try the **RANK** and ***DENSE_RANK*** functions by yourself as they are very similar to **ROW_NUMBER**. The difference between **RANK** and **ROW_NUMBER** is that **RANK** assigns the same unique values if there is a tie and restarts the next value with the total number of rows up to that row.\n",
    "\n",
    "**DENSE_RANK**. It is very similar to **RANK** but differs in how it handles ties. It restarts with the following immediate consecutive value rather than creating a gap."
   ]
  },
  {
   "cell_type": "markdown",
   "id": "51c5cbf7",
   "metadata": {},
   "source": [
    "### 2.3 NTILE\n",
    "\n",
    "**NTILE** is a handy function, especially for data analytics professionals. For example, as a data scientist, you probably need to create robust statistics such as quartile, quintile, median, etc., in your daily job, and **NTILE** makes it very easy to generate those numbers.\n",
    "\n",
    "**NTILE** takes an argument of the number of buckets and then creates this number of buckets as equally as possible, based on how the rows are partitioned and ordered inside the **OVER** function."
   ]
  },
  {
   "cell_type": "code",
   "execution_count": null,
   "id": "704c8990",
   "metadata": {
    "scrolled": false
   },
   "outputs": [],
   "source": [
    "%%sql sqlite://\n",
    "SELECT\n",
    "    YR,\n",
    "    MO,\n",
    "    PREC_mm,  \n",
    "    NTILE(100) OVER(ORDER BY PREC_mm) AS percentile\n",
    "FROM watershed_monthly\n",
    "ORDER BY percentile;"
   ]
  },
  {
   "cell_type": "markdown",
   "id": "787e11d1",
   "metadata": {},
   "source": [
    "You can create a few more statistics, such as **DECILES** (10 buckets) and **QUARTILES** (4 buckets).\n",
    "\n",
    "### 2.4 LAG and Lead\n",
    "\n",
    "**LAG** and **LEAD**, which are extremely useful for dealing with time-related data. The main difference between them is that LAG gets data from previous rows, while LEAD is the opposite, which fetches data from the following rows. We can use either one of the two functions to compare month-over-month growth. \n",
    "\n",
    "Their syntax is very similar to other window functions. Instead of focusing on the format of the syntax, let me show you a couple of examples.\n",
    "\n",
    "#### 2.4.1 LAG\n",
    "\n",
    "1. In the first step, we created a temporal table of ann_total with PREC_mm.\n",
    "\n",
    "2. And in the second step, we appended the previous year’s Ann_PREC_mm to the current year’s using the LAG function.\n",
    "\n",
    "3. Notice that last 2 columns of the first row are empty. It’s simply because 1981 is the first available year.\n",
    "\n",
    "4. We also specified the offset, which is 1, so we fetch the next row. If you change this number to 2, then you compare the current year’s Ann_PREC_mm to the year before the previous year.\n",
    "\n",
    "5. Finally, we divided the current year’s Ann_PREC_mm by the previous year’s to create our year Ann_PREC_mm growth."
   ]
  },
  {
   "cell_type": "code",
   "execution_count": null,
   "id": "4109dc4e",
   "metadata": {},
   "outputs": [],
   "source": [
    "%%sql sqlite://\n",
    "WITH annul_total AS (\n",
    "    SELECT\n",
    "        YR,    \n",
    "        SUM(PREC_mm) AS Ann_PREC_mm    \n",
    "    FROM watershed_monthly\n",
    "    GROUP by YR\n",
    ")\n",
    "\n",
    "SELECT\n",
    "    YR,\n",
    "    Ann_PREC_mm,\n",
    "    LAG(Ann_PREC_mm, 1) OVER (ORDER BY YR) prev_year_total,\n",
    "    ROUND(Ann_PREC_mm *1.0/LAG(Ann_PREC_mm,1) OVER (ORDER BY YR), 2) AS dod\n",
    "FROM annul_total\n",
    "ORDER BY YR"
   ]
  },
  {
   "cell_type": "markdown",
   "id": "ed6eeb8c",
   "metadata": {},
   "source": [
    "#### 2.4.2 LEAD\n",
    "\n",
    "Let’s take a look at another example. It’s very similar to the previous one, but instead of appending the previous year’s Ann_PREC_mm, we used the **LEAD** function with an offset of 1 to get the next year’s Ann_PREC_mm.\n",
    "\n",
    "We then divided the next year’s Ann_PREC_mm by the current year’s Ann_PREC_mm to get the year-over-year growth.\n",
    "\n",
    "Notice that last 2 columns of the last two rows are empty. It’s simply because 2010 and 2009 is the first two available years."
   ]
  },
  {
   "cell_type": "code",
   "execution_count": null,
   "id": "3f5f68b5",
   "metadata": {},
   "outputs": [],
   "source": [
    "%%sql sqlite://\n",
    "WITH annul_total AS (\n",
    "    SELECT\n",
    "        YR,    \n",
    "        SUM(PREC_mm) AS Ann_PREC_mm    \n",
    "    FROM watershed_monthly\n",
    "    GROUP by YR\n",
    ")\n",
    "\n",
    "SELECT\n",
    "    YR,\n",
    "    Ann_PREC_mm,\n",
    "    LEAD(Ann_PREC_mm, 2) OVER (ORDER BY YR) prev_year_total,\n",
    "    ROUND(Ann_PREC_mm *1.0/LEAD(Ann_PREC_mm,2) OVER (ORDER BY YR), 2) AS dod\n",
    "FROM annul_total\n",
    "ORDER BY YR"
   ]
  },
  {
   "cell_type": "markdown",
   "id": "ea02784e",
   "metadata": {},
   "source": [
    "## Summary\n",
    "\n",
    "Congratulations! If you have followed through all the examples and have seen most of the common **WINDOW functions/patterns**.\n",
    "\n",
    "WINDOW functions are a family of SQL utilities, which provide some extremely powerful and useful features. But for many, since they are so foreign to standard SQL, they are difficult to learn and understand, have strange syntax—and are very often avoided. Writing a bug-free WINDOW function query could be quite challenging. It takes time and practice to become a master, and you are getting there soon.\n",
    "\n",
    "\n",
    "## References and resources\n",
    "\n",
    "https://sqlite.org/windowfunctions.html\n",
    "\n",
    "https://learnsql.com/blog/window-functions-vs-aggregate-functions/\n",
    "\n",
    "https://blog.jupyter.org/a-jupyter-kernel-for-sqlite-9549c5dcf551\n",
    "\n",
    "https://blog.xojo.com/2018/12/18/sqlite-3-25-adds-window-functions-and-improves-alter-table/\n",
    "\n",
    "https://sqlpad.io/playground/"
   ]
  },
  {
   "cell_type": "code",
   "execution_count": null,
   "id": "c1482ba4",
   "metadata": {},
   "outputs": [],
   "source": []
  }
 ],
 "metadata": {
  "kernelspec": {
   "display_name": "Python 3",
   "language": "python",
   "name": "python3"
  },
  "language_info": {
   "codemirror_mode": {
    "name": "ipython",
    "version": 3
   },
   "file_extension": ".py",
   "mimetype": "text/x-python",
   "name": "python",
   "nbconvert_exporter": "python",
   "pygments_lexer": "ipython3",
   "version": "3.8.8"
  }
 },
 "nbformat": 4,
 "nbformat_minor": 5
}
