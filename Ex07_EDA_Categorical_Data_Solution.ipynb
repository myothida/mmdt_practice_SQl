{
 "cells": [
  {
   "cell_type": "markdown",
   "metadata": {},
   "source": [
    "##### Tutorial 07: Working with Categorical Data in SQLite\n",
    "\n",
    "In this tutorial, we will explore how to work with categorical data in SQLite. Categorical data refers to variables that contain label values, such as \"Yes\" or \"No,\" or categories like \"Red,\" \"Blue,\" or \"Green.\" In SQL, categorical data is often stored as text or integer values that represent different categories.\n",
    "\n",
    "**Working with Categorical Data in SQLite**\n",
    "SQLite does not have a built-in data type specifically for categorical data. However, categorical data can be represented in the following ways:\n",
    "\n",
    "**TEXT**: Used to store string values that represent different categories.\n",
    "**INTEGER**: Used to store numerical values that represent different categories (e.g., 1 for \"Yes\" and 0 for \"No\").\n",
    "\n",
    "\n",
    "**Example 1**: Remove extra space in the Categorical columns and update the table.  \n",
    "\n",
    "**Example 2**: What is the gender distribution of participants applying for the program? Count how many participants identify as male, female, or other.\n",
    "\n",
    "**Example 3**: How many participants from each state/region are applying for the program? Combine the data from all regions and count the total number of participants.\n",
    "\n",
    "**Example 4**: What is the employment status distribution of participants? Count how many participants are employed, unemployed, or in another situation.\n",
    "\n",
    "**Example 5**: How many participants use each type of internet (e.g., Wi-Fi, mobile data)? Group the participants based on their reported internet connection type.\n",
    "\n",
    "**Example 6**: Combine data from State_Region and Gender to find out how many male participants are applying from each region.\n",
    "\n",
    "**Example 7**: How many participants wish to join each course? Group participants by their preferred course.\n",
    "\n",
    "**Example 8**: How many participants have personal goals related to career advancement, education, or other categories?\n",
    "\n",
    "**Example 9**: How many participants belong to a school with \"Tech\" in the name?\n",
    "\n",
    "**Example 10**: How many participants are in an academic career that includes the word \"Graduate\"?\n",
    "\n",
    "\n"
   ]
  },
  {
   "cell_type": "code",
   "execution_count": 70,
   "metadata": {},
   "outputs": [],
   "source": [
    "import sqlite3\n",
    "import pandas as pd\n",
    "\n",
    "db_path = './database/mmdt.db3'\n"
   ]
  },
  {
   "cell_type": "code",
   "execution_count": 71,
   "metadata": {},
   "outputs": [],
   "source": [
    "update_query = \"\"\"\n",
    "UPDATE participants\n",
    "    SET State_Region = TRIM(State_Region),\n",
    "        Current_Situation = TRIM(Current_Situation),\n",
    "        Type_of_Internet = TRIM(Type_of_Internet),\n",
    "        Device_used = TRIM(Device_used),\n",
    "        School_Name = TRIM(School_Name),\n",
    "        Gender = TRIM(Gender),\n",
    "        Academic_career = TRIM(Academic_career),\n",
    "        Personal_Professional_Goals = TRIM(Personal_Professional_Goals),\n",
    "        Reason_Right_Person = TRIM(Reason_Right_Person),\n",
    "        Personal_Professional_Challenges = TRIM(Personal_Professional_Challenges);\n",
    "    \"\"\"\n",
    "\n",
    "conn = sqlite3.connect(db_path)\n",
    "cursor = conn.cursor()\n",
    "cursor.execute(update_query)\n",
    "conn.commit()\n",
    "conn.close()"
   ]
  },
  {
   "cell_type": "code",
   "execution_count": null,
   "metadata": {},
   "outputs": [],
   "source": [
    "query = \"\"\"\n",
    "        SELECT             \n",
    "             CASE \n",
    "                WHEN p.Gender = 'Man' THEN 'Male'\n",
    "                WHEN p.Gender = 'male' THEN 'Male'\n",
    "                WHEN p.Gender = 'Male' THEN 'Male'\n",
    "                WHEN p.Gender = 'Female' THEN 'Female'\n",
    "                WHEN p.Gender is NULL THEN b.Gender\n",
    "                ELSE 'Unknown'\n",
    "            END as gender_group, \n",
    "            Count(*) as number\n",
    "        FROM participants as p\n",
    "        LEFT JOIN bhutan as b\n",
    "        USING (ID)\n",
    "        GROUP BY gender_group\n",
    "        ORDER By number DESC;\n",
    "        \"\"\"\n",
    "\n",
    "df = pd.read_sql_query(query, f'sqlite:///{db_path}')\n",
    "df"
   ]
  },
  {
   "cell_type": "code",
   "execution_count": null,
   "metadata": {},
   "outputs": [],
   "source": [
    "import matplotlib.pyplot as plt\n",
    "import seaborn as sns\n",
    "\n",
    "df = df.sort_values(by = 'gender_group', ascending=False)\n",
    "plt.figure(figsize=(6, 6))\n",
    "plt.pie(df['number'], labels=df['gender_group'], autopct='%1.1f%%', \n",
    "        colors=sns.color_palette(\"pastel\"), startangle=140)\n",
    "plt.show()"
   ]
  },
  {
   "cell_type": "code",
   "execution_count": null,
   "metadata": {},
   "outputs": [],
   "source": [
    "query = \"\"\"\n",
    "        SELECT    \n",
    "            COALESCE(p.Country, b.Country) as resident,\n",
    "            COALESCE(p.State_Region, b.State_Region) as state,         \n",
    "            Count(*) as number\n",
    "        FROM participants as p\n",
    "        LEFT JOIN bhutan as b\n",
    "        USING (ID)\n",
    "        GROUP BY resident\n",
    "        ORDER By number DESC;\n",
    "        \"\"\"\n",
    "\n",
    "df = pd.read_sql_query(query, f'sqlite:///{db_path}')\n",
    "\n",
    "import matplotlib.pyplot as plt\n",
    "import seaborn as sns\n",
    "\n",
    "plt.figure(figsize=(10, 6))\n",
    "ax = sns.barplot(x='resident', y='number',  data=df)\n",
    "ax.bar_label(ax.containers[0])\n",
    "plt.show()"
   ]
  },
  {
   "cell_type": "code",
   "execution_count": null,
   "metadata": {},
   "outputs": [],
   "source": [
    "query = \"\"\"\n",
    "        SELECT    \n",
    "            COALESCE(p.Current_Situation, b.Current_Situation) as employed_status,   \n",
    "            COALESCE(p.Academic_career, b.Academic_career) as academic_status\n",
    "        FROM participants as p\n",
    "        LEFT JOIN bhutan as b\n",
    "        USING (ID);\n",
    "        \"\"\"\n",
    "\n",
    "df = pd.read_sql_query(query, f'sqlite:///{db_path}')\n"
   ]
  },
  {
   "cell_type": "code",
   "execution_count": null,
   "metadata": {},
   "outputs": [],
   "source": [
    "df['academic_status'] = df['academic_status'].str.strip()\n",
    "df_academic = df.groupby('academic_status').count().reset_index()\n",
    "df_academic.columns = ['academic_status', 'num_of_students']\n",
    "df_academic['academic_status'] = df_academic.apply(\n",
    "    lambda row: 'Other' if row['num_of_students'] <= 5 else row['academic_status'], axis=1\n",
    ")\n",
    "df_academic = df_academic.sort_values(by='num_of_students')\n",
    "import matplotlib.pyplot as plt\n",
    "import seaborn as sns\n",
    "\n",
    "plt.figure(figsize=(12, 8))\n",
    "ax = sns.barplot(x='academic_status', y='num_of_students',  data=df_academic)\n",
    "ax.bar_label(ax.containers[0])\n",
    "plt.xlabel('')\n",
    "plt.ylabel('number of students')\n",
    "plt.show()"
   ]
  }
 ],
 "metadata": {
  "anaconda-cloud": {},
  "kernelspec": {
   "display_name": ".venv",
   "language": "python",
   "name": "python3"
  },
  "language_info": {
   "codemirror_mode": {
    "name": "ipython",
    "version": 3
   },
   "file_extension": ".py",
   "mimetype": "text/x-python",
   "name": "python",
   "nbconvert_exporter": "python",
   "pygments_lexer": "ipython3",
   "version": "3.12.2"
  }
 },
 "nbformat": 4,
 "nbformat_minor": 2
}
