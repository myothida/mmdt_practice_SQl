{
 "cells": [
  {
   "cell_type": "markdown",
   "metadata": {},
   "source": [
    "### Tutorial 04: Joining Table\n",
    "\n",
    "In this tutorial, we will learn how to join tables in SQL using the participants and status tables. Joining tables allows you to combine rows from two or more tables based on a related column, which is essential for querying normalized databases.\n",
    "**NOTE** The RIGHT JOIN and FULL OUTER JOIN are not supported in SQLite.\n",
    "\n",
    "\n",
    "**INNER JOIN**: Combining Rows with Matching Values\n",
    "An INNER JOIN returns only the rows where there is a match in both tables. If a participant has a status in the status table, the query will return that participant’s details along with their status.\n",
    "\n",
    "**LEFT JOIN**: Including All Rows from the Left Table\n",
    "A LEFT JOIN returns all rows from the left table, and the matching rows from the right table. If there is no match, NULL values are returned for columns from the right table.\n",
    "\n",
    "**SELF JOIN**: Joining a Table with Itself\n",
    "Sometimes, you may want to join a table with itself. This is known as a SELF JOIN. For example, if we want to compare the status of two participants, we can perform a self-join on the participants table.\n",
    "\n",
    "----\n",
    "**Example 1**: Get ID, Age and status of Participants from Bhutan. \n",
    "\n",
    "**Example 2**: Get ID, Age, and status of all Participants who currently live in Myanmar.\n",
    "\n",
    "**Example 3**: Get ID, Age and Gender who are In Progress (status). All participants (both Bhutan and Myanmar) should be included. \n",
    "\n",
    "**Example 4**: Get the number of Participants with each status.\n",
    "\n",
    "**Example 5**: Compare the ages of Two Participants with the Same status \n"
   ]
  },
  {
   "cell_type": "code",
   "execution_count": null,
   "metadata": {},
   "outputs": [],
   "source": [
    "import sqlite3\n",
    "import pandas as pd\n",
    "\n",
    "db_path = './database/mmdt.db3'\n",
    "\n"
   ]
  },
  {
   "cell_type": "code",
   "execution_count": null,
   "metadata": {},
   "outputs": [],
   "source": [
    "query = \"\"\"\n",
    "        SELECT ID, 2024-substr(BOD, 7,4) as age, status\n",
    "        FROM bhutan as b\n",
    "        INNER JOIN status as s\n",
    "        ON b.ID = s.PARTICIPANT_ID;\n",
    "\"\"\"\n",
    "df = pd.read_sql_query(query, f\"sqlite:///{db_path}\")\n",
    "df"
   ]
  },
  {
   "cell_type": "code",
   "execution_count": null,
   "metadata": {},
   "outputs": [],
   "source": [
    "query = \"\"\"\n",
    "        SELECT ID, 2024-BOD as age, status, Country\n",
    "        FROM participants as p\n",
    "        INNER JOIN status as s\n",
    "        on p.ID = s.PARTICIPANT_ID\n",
    "        WHERE Country LIKE 'Myanmar%';\n",
    "\"\"\"\n",
    "df = pd.read_sql_query(query, f\"sqlite:///{db_path}\")\n",
    "df"
   ]
  },
  {
   "cell_type": "code",
   "execution_count": null,
   "metadata": {},
   "outputs": [],
   "source": [
    "query = \"\"\"\n",
    "        SELECT p.ID, COALESCE(2024-p.BOD, 2024-substr(b.BOD,7,4)) as age, \n",
    "        COALESCE(p.Gender, b.Gender) as gender, s.status\n",
    "        FROM participants as p\n",
    "        LEFT JOIN bhutan as b\n",
    "        on p.ID = b.ID\n",
    "        LEFT JOIN status as s\n",
    "        on p.ID = s.PARTICIPANT_ID\n",
    "        WHERE status LIKE '%In Progress%'\n",
    "        LIMIT 20 OFFSET 0;\n",
    "\"\"\"\n",
    "df = pd.read_sql_query(query, f\"sqlite:///{db_path}\")\n",
    "df"
   ]
  },
  {
   "cell_type": "code",
   "execution_count": null,
   "metadata": {},
   "outputs": [],
   "source": [
    "query = \"\"\"\n",
    "        SELECT status, count(*) as Number\n",
    "        FROM status\n",
    "        GROUP BY status\n",
    "        ORDER BY count(*) DESC;\n",
    "        \"\"\"\n",
    "df = pd.read_sql_query(query, f\"sqlite:///{db_path}\")\n",
    "df"
   ]
  },
  {
   "cell_type": "code",
   "execution_count": null,
   "metadata": {},
   "outputs": [],
   "source": [
    "query = \"\"\"\n",
    "        SELECT \n",
    "        p1.ID as person1_ID, \n",
    "        p2.ID as person2_ID,\n",
    "        p1.age as person1_age,\n",
    "        p2.age as person2_age\n",
    "        \n",
    "        FROM \n",
    "        (SELECT p.ID, \n",
    "        COALESCE(2024-p.BOD, 2024-substr(b.BOD, 7, 4)) as age, \n",
    "        s.status\n",
    "        FROM participants as p\n",
    "        LEFT JOIN bhutan as b\n",
    "        ON p.ID = b.ID\n",
    "        LEFT JOIN status as s\n",
    "        On p.ID = s.PARTICIPANT_ID) AS p1\n",
    "        INNER JOIN\n",
    "\n",
    "         (SELECT p.ID, \n",
    "        COALESCE(2024-p.BOD, 2024-substr(b.BOD, 7, 4)) as age, \n",
    "        s.status\n",
    "        FROM participants as p\n",
    "        LEFT JOIN bhutan as b\n",
    "        ON p.ID = b.ID\n",
    "        LEFT JOIN status as s\n",
    "        On p.ID = s.PARTICIPANT_ID) AS p2\n",
    "        ON p1.status = p2.status\n",
    "        WHERE p1.ID != p2.ID\n",
    "        LIMIT 10\n",
    "        ;\n",
    "        \"\"\"\n",
    "df = pd.read_sql_query(query, f\"sqlite:///{db_path}\")\n",
    "df"
   ]
  }
 ],
 "metadata": {
  "anaconda-cloud": {},
  "kernelspec": {
   "display_name": "Python 3",
   "language": "python",
   "name": "python3"
  },
  "language_info": {
   "codemirror_mode": {
    "name": "ipython",
    "version": 3
   },
   "file_extension": ".py",
   "mimetype": "text/x-python",
   "name": "python",
   "nbconvert_exporter": "python",
   "pygments_lexer": "ipython3",
   "version": "3.12.2"
  }
 },
 "nbformat": 4,
 "nbformat_minor": 2
}
