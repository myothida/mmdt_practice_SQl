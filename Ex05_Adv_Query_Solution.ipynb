{
 "cells": [
  {
   "cell_type": "markdown",
   "metadata": {},
   "source": [
    "### Tutorial 05: Advanced Query Techniques of CASE and Subquery\n",
    "\n",
    "In this tutorial, we will explore two advanced SQL query techniques: CASE statements and subqueries. These powerful tools allow you to write more flexible and dynamic SQL queries, which can be incredibly useful when working with complex databases.\n",
    "\n",
    "**CASE Statements**: Conditional Logic in Queries\n",
    "The CASE statement in SQL allows you to add conditional logic to your queries. It works similarly to an if-else or switch statement in programming.\n",
    "\n",
    "**Example 1**: Classifying Participants by Age Group\n",
    "Let’s say we want to classify participants into different age groups such as:\n",
    "\n",
    "- Youth: Age <= 24\n",
    "- Young Adult: Age between 25 and 39\n",
    "- ADult: Age > 40\n",
    "---\n",
    "**Subqueries**: Nesting Queries for Flexibility\n",
    "A subquery is a query within another query. Subqueries can be used in SELECT, INSERT, UPDATE, or DELETE statements, and they allow you to perform operations like filtering, computing aggregates, or updating values based on the results of another query.\n",
    "\n",
    "**Example 2**: Using a Subquery in a `SELECT` Clause\n",
    "Let's say we want to know the average age of all participants and display it next to each participant’s information.\n",
    "\n",
    "**Example 3**: Using a Subquery in a `WHERE` Clause\n",
    "Now, suppose we want to select participants whose age is greater than the average age of all participants. This requires a subquery in the `WHERE` clause.\n",
    "\n",
    "---\n",
    "\n",
    "**Combining CASE and Subqueries**\n",
    "You can combine both techniques for even more powerful and dynamic queries. \n",
    "Display the participant’s age group along with a message indicating whether they are above or below average age.\n",
    "**Example 4**, \n",
    "\n",
    "---"
   ]
  },
  {
   "cell_type": "code",
   "execution_count": null,
   "metadata": {},
   "outputs": [],
   "source": [
    "import sqlite3\n",
    "import pandas as pd\n",
    "\n",
    "db_path = './database/mmdt.db3'"
   ]
  },
  {
   "cell_type": "code",
   "execution_count": null,
   "metadata": {},
   "outputs": [],
   "source": [
    "update_query = \"\"\"\n",
    "                UPDATE \n",
    "                    participants \n",
    "                SET BOD = (SELECT substr(BOD, 7, 4) FROM bhutan) \n",
    "                WHERE BOD is NULL;\n",
    "            \n",
    "                \"\"\"\n",
    "conn = sqlite3.connect(db_path)\n",
    "cursor = conn.cursor()\n",
    "cursor.execute(update_query)\n",
    "conn.commit()\n",
    "conn.close()"
   ]
  },
  {
   "cell_type": "code",
   "execution_count": null,
   "metadata": {},
   "outputs": [],
   "source": [
    "update_query = \"\"\"\n",
    "                UPDATE \n",
    "                    participants \n",
    "                SET BOD = (SELECT AVG(BOD) FROM participants) \n",
    "                WHERE BOD >=2014;\n",
    "            \n",
    "                \"\"\"\n",
    "conn = sqlite3.connect(db_path)\n",
    "cursor = conn.cursor()\n",
    "cursor.execute(update_query)\n",
    "conn.commit()\n",
    "conn.close()"
   ]
  },
  {
   "cell_type": "code",
   "execution_count": null,
   "metadata": {},
   "outputs": [],
   "source": [
    "query = \"\"\"\n",
    "        SELECT\n",
    "            ID, \n",
    "            CASE \n",
    "                WHEN 2024-BOD < 25 THEN 'Youth'\n",
    "                WHEN 2024-BOD BETWEEN 25 and 39 THEN 'Young Adult'\n",
    "                ELSE 'Adult'\n",
    "            END AS age_category\n",
    "            FROM participants;\n",
    "        \"\"\"\n",
    "\n",
    "df = pd.read_sql_query(query, f\"sqlite:///{db_path}\")\n",
    "df"
   ]
  },
  {
   "cell_type": "code",
   "execution_count": null,
   "metadata": {},
   "outputs": [],
   "source": [
    "query = \"\"\"\n",
    "        SELECT \n",
    "            ID, 2024-BOD as age,\n",
    "            (SELECT ROUND(AVG(2024-BOD),2) FROM participants) as average_age\n",
    "            FROM participants;\n",
    "        \"\"\"\n",
    "df = pd.read_sql_query(query, f\"sqlite:///{db_path}\")\n",
    "df"
   ]
  },
  {
   "cell_type": "code",
   "execution_count": null,
   "metadata": {},
   "outputs": [],
   "source": [
    "query = \"\"\"\n",
    "        SELECT \n",
    "            ID, 2024-BOD as age            \n",
    "            FROM participants\n",
    "            WHERE \n",
    "            (2024-BOD)> (SELECT AVG(2024-BOD) FROM participants);\n",
    "        \"\"\"\n"
   ]
  },
  {
   "cell_type": "code",
   "execution_count": null,
   "metadata": {},
   "outputs": [],
   "source": [
    "query = \"\"\"\n",
    "        WITH ageData AS(\n",
    "            SELECT\n",
    "                ID, \n",
    "                (2024-BOD) as age, \n",
    "                CASE \n",
    "                    WHEN 2024-BOD < 25 THEN 'Youth'\n",
    "                    WHEN 2024-BOD BETWEEN 25 and 39 THEN 'Young Adult'\n",
    "                    ELSE 'Adult'\n",
    "                END AS age_category\n",
    "                FROM participants\n",
    "            ),\n",
    "        avgAge AS(SELECT AVG(2024-BOD) AS avg_age FROM participants)\n",
    "        SELECT\n",
    "            a.ID, a.age,\n",
    "            a.age_category,\n",
    "            CASE\n",
    "                WHEN a.age> ag.avg_age THEN 'Above Average'\n",
    "                ELSE 'Below Average'\n",
    "            END as age_message\n",
    "        FROM ageData AS a\n",
    "        INNER JOIN avgAge AS ag;   \n",
    "        \"\"\"\n",
    "df = pd.read_sql_query(query, f\"sqlite:///{db_path}\")\n",
    "df"
   ]
  }
 ],
 "metadata": {
  "anaconda-cloud": {},
  "kernelspec": {
   "display_name": "Python 3",
   "language": "python",
   "name": "python3"
  },
  "language_info": {
   "codemirror_mode": {
    "name": "ipython",
    "version": 3
   },
   "file_extension": ".py",
   "mimetype": "text/x-python",
   "name": "python",
   "nbconvert_exporter": "python",
   "pygments_lexer": "ipython3",
   "version": "3.12.2"
  }
 },
 "nbformat": 4,
 "nbformat_minor": 2
}
