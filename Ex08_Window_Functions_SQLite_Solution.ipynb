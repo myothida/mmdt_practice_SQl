{
 "cells": [
  {
   "cell_type": "markdown",
   "id": "9937d80e",
   "metadata": {},
   "source": [
    "##### Tutorial 08: SQLite Window Functions \n",
    "\n",
    "SQLite introduced support for window functions starting from version 3.25, allowing you to perform advanced analysis and calculations over a set of rows related to the current row. A window function operates over a \"window\" or subset of rows defined by a PARTITION BY clause and ordered by the ORDER BY clause. If you are familiar with aggregate functions like SUM or AVG, window functions are similar but they do not collapse multiple rows into a single result.\n",
    "\n",
    "This tutorial covers how to use window functions in SQLite. Let's explore each of the supported window functions, including examples.\n",
    "\n",
    "- row_number()\n",
    "- rank()\n",
    "- dense_rank()\n",
    "- percent_rank()\n",
    "- cume_dist()\n",
    "- ntile(N)\n",
    "- lag(expr), lag(expr, offset), lag(expr, offset, default)\n",
    "- lead(expr), lead(expr, offset), lead(expr, offset, default)\n",
    "- first_value(expr)\n",
    "- last_value(expr)\n",
    "- nth_value(expr, N)\n",
    "\n",
    "**Example 1**: Rank students by their \"`Pre_Knowledge_Data`\" (Knowledge Score) within each city.  \n",
    "\n",
    "**Example 2**: Get the cumulative distribution of \"`Pre_Knowledge_Data`\" for each student across all cities and state regions.\n",
    "\n",
    "**Example 3**: Calculate the moving average of \"`Pre_Knowledge_Data`\" for students based on their time of joining.\n",
    "\n",
    "**Example 4**: Compare the pre-knowledge `Pre_Knowledge_Data` of participants who joined the program in adjacent rows (using the LAG() function).\n",
    "\n",
    "**Example 5**: Divide students into quartiles based on \"`Pre_Knowledge_Data`\" score using NTILE() window function.\n",
    "\n"
   ]
  },
  {
   "cell_type": "code",
   "execution_count": null,
   "id": "fa27afd6",
   "metadata": {},
   "outputs": [],
   "source": [
    "import sqlite3\n",
    "import pandas as pd\n",
    "\n",
    "db_path = './database/mmdt.db3'"
   ]
  },
  {
   "cell_type": "code",
   "execution_count": null,
   "id": "1adb3c64",
   "metadata": {},
   "outputs": [],
   "source": [
    "query = \"\"\"\n",
    "        SELECT \n",
    "            p.ID, \n",
    "            COALESCE(p.Pre_Knowledge_Data, b.Pre_Knowledge_Data) as score, \n",
    "            RANK() OVER(ORDER BY COALESCE(p.Pre_Knowledge_Data, b.Pre_Knowledge_Data)) as level \n",
    "        FROM participants as p\n",
    "        LEFT JOIN bhutan as b\n",
    "        Using(ID);\n",
    "        \"\"\"\n",
    "\n",
    "df = pd.read_sql_query(query, f\"sqlite:///{db_path}\")\n",
    "df.tail(20)"
   ]
  },
  {
   "cell_type": "code",
   "execution_count": null,
   "id": "d2e4438a",
   "metadata": {},
   "outputs": [],
   "source": [
    "query = \"\"\"\n",
    "        SELECT \n",
    "            p.ID, COALESCE(p.State_Region,b.State_Region) as region,\n",
    "            COALESCE(p.Pre_Knowledge_Data, b.Pre_Knowledge_Data) as score, \n",
    "            RANK() OVER(ORDER BY COALESCE(p.Pre_Knowledge_Data, b.Pre_Knowledge_Data)) as level, \n",
    "            COUNT(*) OVER (PARTITION BY COALESCE(p.State_Region,b.State_Region)) as numb_region,\n",
    "            CAST(RANK() OVER(ORDER BY COALESCE(p.Pre_Knowledge_Data, b.Pre_Knowledge_Data)) \n",
    "                AS FLOAT)/COUNT(*) OVER (PARTITION BY COALESCE(p.State_Region,b.State_Region)) as cmd\n",
    "        FROM participants as p\n",
    "        LEFT JOIN bhutan as b\n",
    "        Using(ID)\n",
    "        WHERE p.State_Region LIKE '%Mandalay%';\n",
    "        \"\"\"\n",
    "\n",
    "df = pd.read_sql_query(query, f\"sqlite:///{db_path}\")\n",
    "df.head(20)"
   ]
  },
  {
   "cell_type": "code",
   "execution_count": null,
   "id": "b043df5a",
   "metadata": {},
   "outputs": [],
   "source": [
    "query = \"\"\"\n",
    "        SELECT \n",
    "            p.ID, COALESCE(p.Time,b.Time) as time, \n",
    "            COALESCE(p.Pre_Knowledge_Data, b.Pre_Knowledge_Data) as score, \n",
    "            AVG(COALESCE(p.Pre_Knowledge_Data, b.Pre_Knowledge_Data))\n",
    "                OVER(ORDER BY COALESCE(p.Time, b.Time) ROWS BETWEEN 2 PRECEDING AND CURRENT ROW) as m_avg_score            \n",
    "        FROM participants as p\n",
    "        LEFT JOIN bhutan as b\n",
    "        Using(ID);\n",
    "        \"\"\"\n",
    "\n",
    "df = pd.read_sql_query(query, f\"sqlite:///{db_path}\")\n",
    "df.head(20)"
   ]
  },
  {
   "cell_type": "code",
   "execution_count": null,
   "id": "82c57fe5",
   "metadata": {},
   "outputs": [],
   "source": [
    "query = \"\"\"\n",
    "        SELECT \n",
    "            p.ID, COALESCE(p.Time,b.Time) as time, \n",
    "            COALESCE(p.Pre_Knowledge_Data, b.Pre_Knowledge_Data) as score, \n",
    "            LAG(COALESCE(p.Pre_Knowledge_Data, b.Pre_Knowledge_Data)) \n",
    "                OVER(ORDER BY COALESCE(p.Time, b.Time)) as pre_score                     \n",
    "        FROM participants as p\n",
    "        LEFT JOIN bhutan as b\n",
    "        Using(ID);\n",
    "        \"\"\"\n",
    "\n",
    "df = pd.read_sql_query(query, f\"sqlite:///{db_path}\")\n",
    "df.head(20)"
   ]
  },
  {
   "cell_type": "code",
   "execution_count": null,
   "id": "d6a1f59a",
   "metadata": {},
   "outputs": [],
   "source": [
    "query = \"\"\"\n",
    "        SELECT \n",
    "            p.ID, COALESCE(p.Time,b.Time) as time, \n",
    "            COALESCE(p.Pre_Knowledge_Data, b.Pre_Knowledge_Data) as score, \n",
    "            NTILE(4) OVER (ORDER BY COALESCE(p.Pre_Knowledge_Data, b.Pre_Knowledge_Data)) AS range\n",
    "                           \n",
    "        FROM participants as p\n",
    "        LEFT JOIN bhutan as b\n",
    "        Using(ID);\n",
    "        \"\"\"\n",
    "\n",
    "df = pd.read_sql_query(query, f\"sqlite:///{db_path}\")\n",
    "df.tail(50)"
   ]
  },
  {
   "cell_type": "code",
   "execution_count": null,
   "id": "1305e32b",
   "metadata": {},
   "outputs": [],
   "source": []
  }
 ],
 "metadata": {
  "kernelspec": {
   "display_name": "Python 3",
   "language": "python",
   "name": "python3"
  },
  "language_info": {
   "codemirror_mode": {
    "name": "ipython",
    "version": 3
   },
   "file_extension": ".py",
   "mimetype": "text/x-python",
   "name": "python",
   "nbconvert_exporter": "python",
   "pygments_lexer": "ipython3",
   "version": "3.12.2"
  }
 },
 "nbformat": 4,
 "nbformat_minor": 5
}
