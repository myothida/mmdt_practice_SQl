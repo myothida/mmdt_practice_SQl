{
 "cells": [
  {
   "cell_type": "markdown",
   "metadata": {},
   "source": [
    "### Tutorial 2: Retrieving Data\n",
    "This tutorial will teach you how to retrieve data. You will learn how to:\n",
    "\n",
    "\n",
    "#### Objectives\n",
    "- Perform basic `SELECT` queries\n",
    "- Filter data using the `WHERE` clause\n",
    "- Retrieve specific columns\n",
    "- Sort and limit results\n",
    "- Use various operators to refine queries\n",
    "---\n",
    "\n"
   ]
  },
  {
   "cell_type": "markdown",
   "metadata": {},
   "source": [
    "- **Q.1**: Connect to the given database `mmdt.db3` and list all the columns in the `applications` table.  \n",
    "- **Q.2**: Retrieve the `Name`, `City`, and `State_Region` of all applicants.  \n",
    "- **Q.3**: Select the names and academic careers of applicants from the table.  \n",
    "- **Q.4**: Retrieve the `Name` and `Contact` information of all applicants who provided a valid contact.  \n",
    "- **Q.5**: Retrieve the names of applicants who have been selected (`Selected = 'Yes'`).  \n",
    "- **Q.6**: Find the applicants who use a specific type of internet connection, such as \"Wi-Fi.\"  \n",
    "- **Q.7**: List all applicants who are leaving their country before `2021-02-01`.  \n",
    "- **Q.8**: Retrieve the names of applicants who dedicate more than 4 hours daily to learning.  \n",
    "- **Q.9**: Find the names and reasons of applicants who believe they are the \"right person\" for the program.  \n",
    "- **Q.10**: Group the applicants by their gender and count the number of applicants in each group.  \n",
    "- **Q.11**: Group the applicants by the type of device they use (`Device_used`) and display the count for each type.  \n",
    "- **Q.12**: Group the applicants by their academic career (`Academic_career`) and count how many are in each category.  \n",
    "- **Q.13**: Group the applicants by their current situation (`Current_Situation`) and display the number of applicants in each group.  "
   ]
  },
  {
   "cell_type": "code",
   "execution_count": 1,
   "metadata": {},
   "outputs": [
    {
     "name": "stdout",
     "output_type": "stream",
     "text": [
      "Tables in the database:\n",
      "applications\n",
      "participants\n"
     ]
    }
   ],
   "source": [
    "import sqlite3\n",
    "import pandas as pd\n",
    "\n",
    "# answer for Q1. In this example, I demonstrate \n",
    "\n",
    "db_path = './database/mmdt.db3'\n",
    "table_names = []\n",
    "with sqlite3.connect(db_path) as conn:\n",
    "    cursor = conn.cursor()\n",
    "    cursor.execute(\"SELECT name FROM sqlite_master WHERE type='table';\")\n",
    "    tables = cursor.fetchall()\n",
    "    print(\"Tables in the database:\")\n",
    "    for table in tables:\n",
    "        print(table[0])   \n",
    "        table_names.append(table[0])\n",
    "    "
   ]
  },
  {
   "cell_type": "markdown",
   "metadata": {},
   "source": [
    "In this tutorial, I am using `pandas` to read an SQLite database. The syntax of queries remains the same as with other methods. Here's how you can proceed:\n",
    "\n",
    "### 1. Install Necessary Libraries\n",
    "Ensure you have the required libraries installed. Use the following commands to install them if needed:\n",
    "```bash\n",
    "pip install pandas sqlalchemy"
   ]
  },
  {
   "cell_type": "code",
   "execution_count": 3,
   "metadata": {},
   "outputs": [
    {
     "data": {
      "text/html": [
       "<div>\n",
       "<style scoped>\n",
       "    .dataframe tbody tr th:only-of-type {\n",
       "        vertical-align: middle;\n",
       "    }\n",
       "\n",
       "    .dataframe tbody tr th {\n",
       "        vertical-align: top;\n",
       "    }\n",
       "\n",
       "    .dataframe thead th {\n",
       "        text-align: right;\n",
       "    }\n",
       "</style>\n",
       "<table border=\"1\" class=\"dataframe\">\n",
       "  <thead>\n",
       "    <tr style=\"text-align: right;\">\n",
       "      <th></th>\n",
       "      <th>Name</th>\n",
       "      <th>State_Region</th>\n",
       "      <th>Country</th>\n",
       "    </tr>\n",
       "  </thead>\n",
       "  <tbody>\n",
       "    <tr>\n",
       "      <th>0</th>\n",
       "      <td>Thae Su Mar</td>\n",
       "      <td>Others</td>\n",
       "      <td>Outside Myanmar</td>\n",
       "    </tr>\n",
       "    <tr>\n",
       "      <th>1</th>\n",
       "      <td>Nu Wai Thet</td>\n",
       "      <td>Mandalay</td>\n",
       "      <td>Myanmar</td>\n",
       "    </tr>\n",
       "    <tr>\n",
       "      <th>2</th>\n",
       "      <td>Hon Saw</td>\n",
       "      <td>Mandalay</td>\n",
       "      <td>Myanmar</td>\n",
       "    </tr>\n",
       "    <tr>\n",
       "      <th>3</th>\n",
       "      <td>Wai Yan Tun Oo</td>\n",
       "      <td>Yangon</td>\n",
       "      <td>Myanmar</td>\n",
       "    </tr>\n",
       "    <tr>\n",
       "      <th>4</th>\n",
       "      <td>Thandar Zaw</td>\n",
       "      <td>Yangon</td>\n",
       "      <td>Myanmar</td>\n",
       "    </tr>\n",
       "  </tbody>\n",
       "</table>\n",
       "</div>"
      ],
      "text/plain": [
       "             Name State_Region          Country\n",
       "0     Thae Su Mar       Others  Outside Myanmar\n",
       "1     Nu Wai Thet     Mandalay          Myanmar\n",
       "2        Hon Saw      Mandalay          Myanmar\n",
       "3  Wai Yan Tun Oo       Yangon          Myanmar\n",
       "4     Thandar Zaw       Yangon          Myanmar"
      ]
     },
     "execution_count": 3,
     "metadata": {},
     "output_type": "execute_result"
    }
   ],
   "source": [
    "import pandas as pd\n",
    "\n",
    "query = \"SELECT Name, State_Region, Country FROM applications;\"\n",
    "df = pd.read_sql_query(query, f\"sqlite:///{db_path}\")\n",
    "\n",
    "df.head(5)\n"
   ]
  }
 ],
 "metadata": {
  "anaconda-cloud": {},
  "kernelspec": {
   "display_name": "Python 3",
   "language": "python",
   "name": "python3"
  },
  "language_info": {
   "codemirror_mode": {
    "name": "ipython",
    "version": 3
   },
   "file_extension": ".py",
   "mimetype": "text/x-python",
   "name": "python",
   "nbconvert_exporter": "python",
   "pygments_lexer": "ipython3",
   "version": "3.12.2"
  }
 },
 "nbformat": 4,
 "nbformat_minor": 2
}
