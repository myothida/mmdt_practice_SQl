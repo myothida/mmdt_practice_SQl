{
 "cells": [
  {
   "cell_type": "markdown",
   "metadata": {},
   "source": [
    "##### Tutorial 2: Retrieving Data\n",
    "This tutorial will teach you how to retrieve data. You will learn how to:\n",
    "\n",
    "\n",
    "######## Objectives\n",
    "- Perform basic `SELECT` queries\n",
    "- Filter data using the `WHERE` clause\n",
    "- Retrieve specific columns\n",
    "- Sort and limit results\n",
    "- Use various operators to refine queries\n",
    "---\n"
   ]
  },
  {
   "cell_type": "code",
   "execution_count": null,
   "metadata": {},
   "outputs": [],
   "source": [
    "import sqlite3\n",
    "import pandas as pd"
   ]
  },
  {
   "cell_type": "markdown",
   "metadata": {},
   "source": [
    "In this tutorial, I am using `pandas` to read an SQLite database. The syntax of queries remains the same as with other methods. Here's how you can proceed:\n",
    "\n",
    "######## Install Necessary Libraries\n",
    "Ensure you have the required libraries installed. Use the following commands to install them if needed:\n",
    "```bash\n",
    "pip install pandas sqlalchemy"
   ]
  },
  {
   "cell_type": "markdown",
   "metadata": {},
   "source": [
    "######## Retrieve Data, Filter Query with WHERE, Aggregate Data with GROUP BY and ORDER BY\n",
    "- **Q.1**: Count the number of `participants`.  \n",
    "- **Q.2**: Retrieve the `ID`, `City`, and `State_Region` of all applicants who are currently in Myanmar.\n",
    "- **Q.3**: Identify all the distinct values in the `Selected` column.\n",
    "- **Q.4**: Retrieve the `ID` of participants who are substitute (`Selected = 'Waiting List'`) and are located in Myanmar.\n",
    "- **Q.5**: Retrieve the `ID` of participants who does not provide the `Gender` information. \n",
    "- **Q.6**: Group the participants by State_Region and count the number of participants in each state. Sort the results in ascending order based on the count.\n",
    "- **Q.7**: Group the applicants by gender and `count` the number of applicants in each group. Sort the results in descending order based on the `count`.\n",
    "- **Q.8**: Retrieve the `ID` of participants who are gen `z`. The year of birth (BOD) is between 1997 and 2000.\n",
    "- **Q.9**: Calculate the `age` of each participant based on their year of birth and include the result in the output. \n",
    "- **Q.10**:Compute statistical values (such as the mean, minimum, maximum, and standard deviation) of `age`.    "
   ]
  }
 ],
 "metadata": {
  "anaconda-cloud": {},
  "kernelspec": {
   "display_name": "Python 3",
   "language": "python",
   "name": "python3"
  },
  "language_info": {
   "codemirror_mode": {
    "name": "ipython",
    "version": 3
   },
   "file_extension": ".py",
   "mimetype": "text/x-python",
   "name": "python",
   "nbconvert_exporter": "python",
   "pygments_lexer": "ipython3",
   "version": "3.12.2"
  }
 },
 "nbformat": 4,
 "nbformat_minor": 2
}
